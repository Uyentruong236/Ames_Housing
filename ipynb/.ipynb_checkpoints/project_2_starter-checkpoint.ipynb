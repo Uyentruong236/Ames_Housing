{
 "cells": [
  {
   "cell_type": "markdown",
   "metadata": {},
   "source": [
    "**NOTE:** You probably will see warnings. These are not errors! However, you should read them and try to understand why they're there. Can you fix them?"
   ]
  },
  {
   "cell_type": "markdown",
   "metadata": {},
   "source": [
    "![](http://rentinginla.com/wp-content/uploads/2015/12/Buying.jpg)\n",
    "# [Project 2: Predicting House Prices with Advanced Regression Techniques](https://www.kaggle.com/c/house-prices-advanced-regression-techniques/data)\n",
    "\n",
    "The goal of this project is for you to use EDA, visualization, data cleaning, preprocesing, and linear models to predict home prices given the features of the home, and interpret your linear models to find out what features add value to a home! This project is a bit more open-ended than project 1. \n",
    "\n",
    "Be sure to ...\n",
    "\n",
    "* Think about your choices when it comes to your choices about the data. Be ready to defend your decisions!\n",
    "* Use lots of plots to dig deeper into the data! Describe the plots and convey what you learned from them.\n",
    "* Don't forget to read the [description of the data](../data_description.txt) (also available at the kaggle website)! This has valuable information that will help you clean and impute data. `NaN` means something in many of the columns! Don't just drop or fill them!\n",
    "* Try fitting many models! Document your work and note what you've tried.\n",
    "* Apply what you've learned in class, books, videos, Kaggle forums, and blog posts. There have been a TON of blog posts about this;  you should seek them out and read them!\n",
    "\n",
    "\n",
    "From the Kaggle competition website:\n",
    "\n",
    "    Ask a home buyer to describe their dream house, and they probably won't begin with the height of the basement ceiling or the proximity to an east-west railroad. But this playground competition's dataset proves that much more influences price negotiations than the number of bedrooms or a white-picket fence.\n",
    "\n",
    "    With 79 explanatory variables describing (almost) every aspect of residential homes in Ames, Iowa, this competition challenges you to predict the final price of each home.\n"
   ]
  },
  {
   "cell_type": "code",
   "execution_count": 1,
   "metadata": {
    "collapsed": true
   },
   "outputs": [],
   "source": [
    "import pandas as pd\n",
    "import numpy as np\n",
    "import matplotlib.pyplot as plt\n",
    "%matplotlib inline\n",
    "\n",
    "import seaborn as sns\n",
    "\n",
    "from IPython.display import display\n",
    "\n",
    "%matplotlib inline \n",
    "np.random.seed(42)"
   ]
  },
  {
   "cell_type": "markdown",
   "metadata": {},
   "source": [
    "## 1. Load the Data \n",
    "\n",
    "* The data comes in three separate CSVs located in `../data/`. \n",
    "* Load the CSV into a `DataFrame`. \n",
    "* Make sure to check the `.head` or `.sample`. How many rows? How many columns?\n",
    "* Familiarize yourself with the column names and what they represent.\n",
    "* Is there a column that can be set as the `index`? If so, set that column as the index when loading the data. (`df.set_index()`)"
   ]
  },
  {
   "cell_type": "code",
   "execution_count": 2,
   "metadata": {
    "scrolled": true
   },
   "outputs": [
    {
     "data": {
      "text/html": [
       "<div>\n",
       "<table border=\"1\" class=\"dataframe\">\n",
       "  <thead>\n",
       "    <tr style=\"text-align: right;\">\n",
       "      <th></th>\n",
       "      <th>Id</th>\n",
       "      <th>MSSubClass</th>\n",
       "      <th>MSZoning</th>\n",
       "      <th>LotFrontage</th>\n",
       "      <th>LotArea</th>\n",
       "      <th>Street</th>\n",
       "      <th>Alley</th>\n",
       "      <th>LotShape</th>\n",
       "      <th>LandContour</th>\n",
       "      <th>Utilities</th>\n",
       "      <th>...</th>\n",
       "      <th>PoolArea</th>\n",
       "      <th>PoolQC</th>\n",
       "      <th>Fence</th>\n",
       "      <th>MiscFeature</th>\n",
       "      <th>MiscVal</th>\n",
       "      <th>MoSold</th>\n",
       "      <th>YrSold</th>\n",
       "      <th>SaleType</th>\n",
       "      <th>SaleCondition</th>\n",
       "      <th>SalePrice</th>\n",
       "    </tr>\n",
       "  </thead>\n",
       "  <tbody>\n",
       "    <tr>\n",
       "      <th>0</th>\n",
       "      <td>1</td>\n",
       "      <td>60</td>\n",
       "      <td>RL</td>\n",
       "      <td>65.0</td>\n",
       "      <td>8450</td>\n",
       "      <td>Pave</td>\n",
       "      <td>NaN</td>\n",
       "      <td>Reg</td>\n",
       "      <td>Lvl</td>\n",
       "      <td>AllPub</td>\n",
       "      <td>...</td>\n",
       "      <td>0</td>\n",
       "      <td>NaN</td>\n",
       "      <td>NaN</td>\n",
       "      <td>NaN</td>\n",
       "      <td>0</td>\n",
       "      <td>2</td>\n",
       "      <td>2008</td>\n",
       "      <td>WD</td>\n",
       "      <td>Normal</td>\n",
       "      <td>208500</td>\n",
       "    </tr>\n",
       "    <tr>\n",
       "      <th>1</th>\n",
       "      <td>2</td>\n",
       "      <td>20</td>\n",
       "      <td>RL</td>\n",
       "      <td>80.0</td>\n",
       "      <td>9600</td>\n",
       "      <td>Pave</td>\n",
       "      <td>NaN</td>\n",
       "      <td>Reg</td>\n",
       "      <td>Lvl</td>\n",
       "      <td>AllPub</td>\n",
       "      <td>...</td>\n",
       "      <td>0</td>\n",
       "      <td>NaN</td>\n",
       "      <td>NaN</td>\n",
       "      <td>NaN</td>\n",
       "      <td>0</td>\n",
       "      <td>5</td>\n",
       "      <td>2007</td>\n",
       "      <td>WD</td>\n",
       "      <td>Normal</td>\n",
       "      <td>181500</td>\n",
       "    </tr>\n",
       "    <tr>\n",
       "      <th>2</th>\n",
       "      <td>3</td>\n",
       "      <td>60</td>\n",
       "      <td>RL</td>\n",
       "      <td>68.0</td>\n",
       "      <td>11250</td>\n",
       "      <td>Pave</td>\n",
       "      <td>NaN</td>\n",
       "      <td>IR1</td>\n",
       "      <td>Lvl</td>\n",
       "      <td>AllPub</td>\n",
       "      <td>...</td>\n",
       "      <td>0</td>\n",
       "      <td>NaN</td>\n",
       "      <td>NaN</td>\n",
       "      <td>NaN</td>\n",
       "      <td>0</td>\n",
       "      <td>9</td>\n",
       "      <td>2008</td>\n",
       "      <td>WD</td>\n",
       "      <td>Normal</td>\n",
       "      <td>223500</td>\n",
       "    </tr>\n",
       "    <tr>\n",
       "      <th>3</th>\n",
       "      <td>4</td>\n",
       "      <td>70</td>\n",
       "      <td>RL</td>\n",
       "      <td>60.0</td>\n",
       "      <td>9550</td>\n",
       "      <td>Pave</td>\n",
       "      <td>NaN</td>\n",
       "      <td>IR1</td>\n",
       "      <td>Lvl</td>\n",
       "      <td>AllPub</td>\n",
       "      <td>...</td>\n",
       "      <td>0</td>\n",
       "      <td>NaN</td>\n",
       "      <td>NaN</td>\n",
       "      <td>NaN</td>\n",
       "      <td>0</td>\n",
       "      <td>2</td>\n",
       "      <td>2006</td>\n",
       "      <td>WD</td>\n",
       "      <td>Abnorml</td>\n",
       "      <td>140000</td>\n",
       "    </tr>\n",
       "    <tr>\n",
       "      <th>4</th>\n",
       "      <td>5</td>\n",
       "      <td>60</td>\n",
       "      <td>RL</td>\n",
       "      <td>84.0</td>\n",
       "      <td>14260</td>\n",
       "      <td>Pave</td>\n",
       "      <td>NaN</td>\n",
       "      <td>IR1</td>\n",
       "      <td>Lvl</td>\n",
       "      <td>AllPub</td>\n",
       "      <td>...</td>\n",
       "      <td>0</td>\n",
       "      <td>NaN</td>\n",
       "      <td>NaN</td>\n",
       "      <td>NaN</td>\n",
       "      <td>0</td>\n",
       "      <td>12</td>\n",
       "      <td>2008</td>\n",
       "      <td>WD</td>\n",
       "      <td>Normal</td>\n",
       "      <td>250000</td>\n",
       "    </tr>\n",
       "  </tbody>\n",
       "</table>\n",
       "<p>5 rows × 81 columns</p>\n",
       "</div>"
      ],
      "text/plain": [
       "   Id  MSSubClass MSZoning  LotFrontage  LotArea Street Alley LotShape  \\\n",
       "0   1          60       RL         65.0     8450   Pave   NaN      Reg   \n",
       "1   2          20       RL         80.0     9600   Pave   NaN      Reg   \n",
       "2   3          60       RL         68.0    11250   Pave   NaN      IR1   \n",
       "3   4          70       RL         60.0     9550   Pave   NaN      IR1   \n",
       "4   5          60       RL         84.0    14260   Pave   NaN      IR1   \n",
       "\n",
       "  LandContour Utilities    ...     PoolArea PoolQC Fence MiscFeature MiscVal  \\\n",
       "0         Lvl    AllPub    ...            0    NaN   NaN         NaN       0   \n",
       "1         Lvl    AllPub    ...            0    NaN   NaN         NaN       0   \n",
       "2         Lvl    AllPub    ...            0    NaN   NaN         NaN       0   \n",
       "3         Lvl    AllPub    ...            0    NaN   NaN         NaN       0   \n",
       "4         Lvl    AllPub    ...            0    NaN   NaN         NaN       0   \n",
       "\n",
       "  MoSold YrSold  SaleType  SaleCondition  SalePrice  \n",
       "0      2   2008        WD         Normal     208500  \n",
       "1      5   2007        WD         Normal     181500  \n",
       "2      9   2008        WD         Normal     223500  \n",
       "3      2   2006        WD        Abnorml     140000  \n",
       "4     12   2008        WD         Normal     250000  \n",
       "\n",
       "[5 rows x 81 columns]"
      ]
     },
     "execution_count": 2,
     "metadata": {},
     "output_type": "execute_result"
    }
   ],
   "source": [
    "train = pd.read_csv('../data/train.csv')\n",
    "train.head()"
   ]
  },
  {
   "cell_type": "code",
   "execution_count": 3,
   "metadata": {
    "collapsed": true
   },
   "outputs": [],
   "source": [
    "df_train = train.set_index('Id')"
   ]
  },
  {
   "cell_type": "code",
   "execution_count": 4,
   "metadata": {
    "collapsed": true,
    "scrolled": true
   },
   "outputs": [],
   "source": [
    "# df_train.info()"
   ]
  },
  {
   "cell_type": "code",
   "execution_count": 5,
   "metadata": {
    "collapsed": true
   },
   "outputs": [],
   "source": [
    "# df_train.shape"
   ]
  },
  {
   "cell_type": "markdown",
   "metadata": {},
   "source": [
    "**Bonus:** Write an assertion statement to programmatically verify the correct number of rows and columns were imported."
   ]
  },
  {
   "cell_type": "markdown",
   "metadata": {},
   "source": [
    "## 2. Exploratory Data Analysis (EDA)"
   ]
  },
  {
   "cell_type": "markdown",
   "metadata": {},
   "source": [
    "### A. Data Types\n",
    "\n",
    "Read the data description on Kaggle. Which variables are numerical and categorical? Are there any columns that can be deleted? \n",
    "\n",
    "Make sure the `dtype` of each column is correct. \n",
    "\n",
    "**NOTE:** There is one column in particular that should be categorical but will load in pandas as numeric."
   ]
  },
  {
   "cell_type": "code",
   "execution_count": 6,
   "metadata": {
    "collapsed": true
   },
   "outputs": [],
   "source": [
    "# #correlation matrix\n",
    "# corrmat = df_train.corr()\n",
    "# f, ax = plt.subplots(figsize=(12, 9))\n",
    "# sns.heatmap(corrmat, vmax=.8, square=True);"
   ]
  },
  {
   "cell_type": "code",
   "execution_count": 7,
   "metadata": {
    "collapsed": true
   },
   "outputs": [],
   "source": [
    "df_train['MSSubClass'] = df_train['MSSubClass'].astype('object')"
   ]
  },
  {
   "cell_type": "markdown",
   "metadata": {},
   "source": [
    "According to the data description, MSSubClass should be categorical because the different numerical values represent different type of dwelling involved in the sale so the datatype shouldn't be int, but should be treated as str values instead\n",
    "\n",
    "\n",
    "\n"
   ]
  },
  {
   "cell_type": "code",
   "execution_count": 8,
   "metadata": {},
   "outputs": [
    {
     "data": {
      "text/plain": [
       "RL         1151\n",
       "RM          218\n",
       "FV           65\n",
       "RH           16\n",
       "C (all)      10\n",
       "Name: MSZoning, dtype: int64"
      ]
     },
     "execution_count": 8,
     "metadata": {},
     "output_type": "execute_result"
    }
   ],
   "source": [
    "df_train['MSZoning'].value_counts()"
   ]
  },
  {
   "cell_type": "markdown",
   "metadata": {},
   "source": [
    "Remove C(commercial) from MSzoning dataset since we are only trying to determine prices of homes so we only want to look at data of Residential properties. "
   ]
  },
  {
   "cell_type": "code",
   "execution_count": 9,
   "metadata": {},
   "outputs": [
    {
     "data": {
      "text/plain": [
       "(1450, 80)"
      ]
     },
     "execution_count": 9,
     "metadata": {},
     "output_type": "execute_result"
    }
   ],
   "source": [
    "df_train = df_train[df_train.MSZoning != 'C (all)']\n",
    "df_train.shape"
   ]
  },
  {
   "cell_type": "code",
   "execution_count": 10,
   "metadata": {
    "scrolled": true
   },
   "outputs": [
    {
     "data": {
      "text/html": [
       "<div>\n",
       "<table border=\"1\" class=\"dataframe\">\n",
       "  <thead>\n",
       "    <tr style=\"text-align: right;\">\n",
       "      <th></th>\n",
       "      <th>Total</th>\n",
       "      <th>Percent</th>\n",
       "    </tr>\n",
       "  </thead>\n",
       "  <tbody>\n",
       "    <tr>\n",
       "      <th>PoolQC</th>\n",
       "      <td>1443</td>\n",
       "      <td>0.995172</td>\n",
       "    </tr>\n",
       "    <tr>\n",
       "      <th>MiscFeature</th>\n",
       "      <td>1398</td>\n",
       "      <td>0.964138</td>\n",
       "    </tr>\n",
       "    <tr>\n",
       "      <th>Alley</th>\n",
       "      <td>1361</td>\n",
       "      <td>0.938621</td>\n",
       "    </tr>\n",
       "    <tr>\n",
       "      <th>Fence</th>\n",
       "      <td>1172</td>\n",
       "      <td>0.808276</td>\n",
       "    </tr>\n",
       "    <tr>\n",
       "      <th>FireplaceQu</th>\n",
       "      <td>681</td>\n",
       "      <td>0.469655</td>\n",
       "    </tr>\n",
       "    <tr>\n",
       "      <th>LotFrontage</th>\n",
       "      <td>259</td>\n",
       "      <td>0.178621</td>\n",
       "    </tr>\n",
       "    <tr>\n",
       "      <th>GarageType</th>\n",
       "      <td>79</td>\n",
       "      <td>0.054483</td>\n",
       "    </tr>\n",
       "    <tr>\n",
       "      <th>GarageCond</th>\n",
       "      <td>79</td>\n",
       "      <td>0.054483</td>\n",
       "    </tr>\n",
       "    <tr>\n",
       "      <th>GarageFinish</th>\n",
       "      <td>79</td>\n",
       "      <td>0.054483</td>\n",
       "    </tr>\n",
       "    <tr>\n",
       "      <th>GarageQual</th>\n",
       "      <td>79</td>\n",
       "      <td>0.054483</td>\n",
       "    </tr>\n",
       "  </tbody>\n",
       "</table>\n",
       "</div>"
      ],
      "text/plain": [
       "              Total   Percent\n",
       "PoolQC         1443  0.995172\n",
       "MiscFeature    1398  0.964138\n",
       "Alley          1361  0.938621\n",
       "Fence          1172  0.808276\n",
       "FireplaceQu     681  0.469655\n",
       "LotFrontage     259  0.178621\n",
       "GarageType       79  0.054483\n",
       "GarageCond       79  0.054483\n",
       "GarageFinish     79  0.054483\n",
       "GarageQual       79  0.054483"
      ]
     },
     "execution_count": 10,
     "metadata": {},
     "output_type": "execute_result"
    }
   ],
   "source": [
    "total = df_train.isnull().sum().sort_values(ascending=False)\n",
    "percent = (df_train.isnull().sum()/df_train.isnull().count()).sort_values(ascending = False)\n",
    "missing_data = pd.concat([total, percent], axis =1, keys = ['Total', 'Percent'])\n",
    "missing_data.head(10)"
   ]
  },
  {
   "cell_type": "markdown",
   "metadata": {},
   "source": [
    "Remove ExterCond, GarageCond and OverallCond columns since the rating categories are the same as the Exter, Garage and Overall quality columns \n",
    "\n",
    "Remove Garage Cars since the number of cars that fit into the garage would indicate the size of the Garage Area (both Garaage Caras and Garage Areas measure the size of the garage so we'd only need one of these). I'm choosing to keep Garage Area.\n",
    "\n",
    "Remove Street since over 99% of the data are in one category (paved) and the less than 1% are extremely rare cases that should not influence our overall housing prices.\n",
    "\n",
    "Remove PoolArea since over 99% of the data is equal to 0 and there are only 7 values of pool square footage which are extremely rare cases that should influce the overall housing prices."
   ]
  },
  {
   "cell_type": "code",
   "execution_count": 11,
   "metadata": {
    "collapsed": true
   },
   "outputs": [],
   "source": [
    "# df_train.drop(['PoolQC', 'MiscFeature', 'Alley', 'Fence', \n",
    "#                           'ExterCond', 'GarageCond', 'OverallCond', 'GarageCars', 'Street', 'PoolArea'], 1)"
   ]
  },
  {
   "cell_type": "code",
   "execution_count": 12,
   "metadata": {
    "collapsed": true
   },
   "outputs": [],
   "source": [
    "# df_train.info()"
   ]
  },
  {
   "cell_type": "code",
   "execution_count": 13,
   "metadata": {},
   "outputs": [],
   "source": [
    "dtype = df_train.columns.to_series().groupby(df_train.dtypes).groups"
   ]
  },
  {
   "cell_type": "code",
   "execution_count": 14,
   "metadata": {},
   "outputs": [],
   "source": [
    "cat_col = ['MSSubClass', 'MSZoning', 'Street', 'Alley', 'LotShape', 'LandContour',\n",
    "        'Utilities', 'LotConfig', 'LandSlope', 'Neighborhood', 'Condition1',\n",
    "        'Condition2', 'BldgType', 'HouseStyle', 'RoofStyle', 'RoofMatl',\n",
    "        'Exterior1st', 'Exterior2nd', 'MasVnrType', 'ExterQual', 'ExterCond',\n",
    "        'Foundation', 'BsmtQual', 'BsmtCond', 'BsmtExposure', 'BsmtFinType1',\n",
    "        'BsmtFinType2', 'Heating', 'HeatingQC', 'CentralAir', 'Electrical',\n",
    "        'KitchenQual', 'Functional', 'FireplaceQu', 'GarageType',\n",
    "        'GarageFinish', 'GarageQual', 'GarageCond', 'PavedDrive', 'PoolQC',\n",
    "        'Fence', 'MiscFeature', 'SaleType', 'SaleCondition']\n",
    "df_cat = pd.DataFrame(df_train[cat_col])"
   ]
  },
  {
   "cell_type": "code",
   "execution_count": 15,
   "metadata": {
    "collapsed": true,
    "scrolled": true
   },
   "outputs": [],
   "source": [
    "num_col = [col for col in df_train.columns if col not in cat_col]\n",
    "# numeric_cols"
   ]
  },
  {
   "cell_type": "code",
   "execution_count": 16,
   "metadata": {
    "collapsed": true
   },
   "outputs": [],
   "source": [
    "# num_col = ['LotArea', 'OverallQual', 'YearBuilt', 'YearRemodAdd', 'BsmtFinSF1',\n",
    "#         'BsmtFinSF2', 'BsmtUnfSF', 'TotalBsmtSF', '1stFlrSF', '2ndFlrSF',\n",
    "#         'LowQualFinSF', 'GrLivArea', 'BsmtFullBath', 'BsmtHalfBath', 'FullBath',\n",
    "#         'HalfBath', 'BedroomAbvGr', 'KitchenAbvGr', 'TotRmsAbvGrd',\n",
    "#         'Fireplaces', 'GarageArea', 'WoodDeckSF', 'OpenPorchSF',\n",
    "#         'EnclosedPorch', '3SsnPorch', 'ScreenPorch', 'MiscVal',\n",
    "#         'MoSold', 'YrSold','LotFrontage', 'MasVnrArea', 'GarageYrBlt', 'SalePrice']"
   ]
  },
  {
   "cell_type": "code",
   "execution_count": 17,
   "metadata": {},
   "outputs": [
    {
     "name": "stdout",
     "output_type": "stream",
     "text": [
      "(1450, 44)\n",
      "(1450, 36)\n",
      "(1450, 80)\n"
     ]
    }
   ],
   "source": [
    "df_num = pd.DataFrame(df_train[num_col])\n",
    "print(df_cat.shape)\n",
    "print(df_num.shape)\n",
    "print(df_train.shape)"
   ]
  },
  {
   "cell_type": "markdown",
   "metadata": {},
   "source": [
    "\n",
    "\n",
    "### B. Plot histograms of the numeric columns. "
   ]
  },
  {
   "cell_type": "code",
   "execution_count": 18,
   "metadata": {
    "collapsed": true,
    "scrolled": true
   },
   "outputs": [],
   "source": [
    "# fig1 = plt.figure(1, figsize=(30,30))\n",
    "# fig1.suptitle(\"Numeric Columns Histograms\", fontsize=25)\n",
    "# for i, col in enumerate(df_num.columns):\n",
    "#     fig1.add_subplot(6,6,1+i)\n",
    "#     plt.hist(df_num[col].dropna())\n",
    "#     plt.title(col, fontsize=15)\n"
   ]
  },
  {
   "cell_type": "markdown",
   "metadata": {},
   "source": [
    "#### What are your observations? Add them to this markdown cell.\n",
    "\n",
    "---\n",
    "\n"
   ]
  },
  {
   "cell_type": "markdown",
   "metadata": {},
   "source": [
    "### C. Plot the Numeric Columns Against `SalePrice` using scatter plots."
   ]
  },
  {
   "cell_type": "code",
   "execution_count": 19,
   "metadata": {},
   "outputs": [],
   "source": [
    "# fig = plt.figure(figsize=(40,40))\n",
    "# fig.suptitle(\"Numeric Columns\", fontsize=25)\n",
    "# for i, col in enumerate(df_num.columns):\n",
    "#     if 'SalePrice' not in col:\n",
    "#         fig.add_subplot(6,6,1+i)\n",
    "#         plt.scatter(x=col, y=\"SalePrice\", data=df_train, s=15, alpha =0.5)\n",
    "#         plt.title(col, fontsize=15)"
   ]
  },
  {
   "cell_type": "markdown",
   "metadata": {},
   "source": [
    "#### What are your observations? Add them to this markdown cell.\n",
    "\n",
    "-  Lotarea does not seem to have a linear relationship with saleprice.\n",
    "-  OverallQual has a positive linear relationship with Saleprice,  higher Overallqual = higher Saleprice average.\n",
    "-  YearBulit could also affect saleprice but the relationship is not clear\n",
    "-  YearRemodAdd also has a flat linear relationship\n",
    "-  BsmtFinSF1 cluster and could have a positive linear relationship with SalePrice --\n",
    "-  TotalRmsAbovGrd could affect\n",
    "-  Garage Area also affect SalePrice\n",
    "-  Yr Sold does not seem to affect average price \n",
    "\n"
   ]
  },
  {
   "cell_type": "code",
   "execution_count": 21,
   "metadata": {},
   "outputs": [],
   "source": [
    "df_train = df_train.drop(['LotArea', 'LowQualFinSF', 'HalfBath',\n",
    "'EnclosedPorch', '3SsnPorch', 'YrSold', 'MiscVal'], axis=1)"
   ]
  },
  {
   "cell_type": "code",
   "execution_count": 22,
   "metadata": {
    "collapsed": true
   },
   "outputs": [],
   "source": [
    "# var = 'YrSold'\n",
    "# data = pd.concat([df_train['SalePrice'], df_train[var]], axis=1)\n",
    "# f, ax = plt.subplots(figsize=(8, 6))\n",
    "# fig = sns.boxplot(x=var, y=\"SalePrice\", data=data)\n",
    "# fig.axis(ymin=0, ymax=800000);"
   ]
  },
  {
   "cell_type": "markdown",
   "metadata": {},
   "source": [
    "### D. Use bar plots to plot categorical features against `SalePrice`. \n",
    "\n",
    "**HINT:** Look up how to create bar plots in `matplotlib`. You will have to transform the data before you can create a bar plot! Also, look up [how to plot error bars](https://pandas.pydata.org/pandas-docs/stable/visualization.html#plotting-with-error-bars) so you can also observe the variability in your data!"
   ]
  },
  {
   "cell_type": "code",
   "execution_count": 23,
   "metadata": {
    "collapsed": true,
    "scrolled": false
   },
   "outputs": [],
   "source": [
    "# df_train.head()\n",
    "# fig = plt.figure(figsize=(40,40))\n",
    "# for i, col in enumerate(df_cat):\n",
    "#     fig.add_subplot(7,7,i+1)\n",
    "#     fig.suptitle(\"Categorical Features\", fontsize=25)\n",
    "#     errors= df_train.groupby(df_cat.loc[:, col]).SalePrice.std()\n",
    "#     df_train.groupby(df_cat.loc[:, col]).SalePrice.mean().plot.bar(alpha = 0.5, color='g',yerr=errors)"
   ]
  },
  {
   "cell_type": "code",
   "execution_count": 24,
   "metadata": {
    "collapsed": true
   },
   "outputs": [],
   "source": [
    "import scipy.stats as stats"
   ]
  },
  {
   "cell_type": "markdown",
   "metadata": {},
   "source": [
    "#### What are your observations? Add them to this markdown cell.\n",
    "\n",
    "---\n",
    "\n"
   ]
  },
  {
   "cell_type": "markdown",
   "metadata": {},
   "source": [
    "## 3. Preprocessing"
   ]
  },
  {
   "cell_type": "markdown",
   "metadata": {},
   "source": [
    "### A. Identify and Remove Outliers for `SalePrice`\n",
    "\n",
    "Make sure to... \n",
    "* Plot a histogram of the housing price. \n",
    "* Supply a definition of what an outlier is by your criteria. Does Tukey's method make sense with 1.5 times the interquartile range, or should that range be increased or decreased?\n",
    "* Use masking to remove the outliers as you've defined them."
   ]
  },
  {
   "cell_type": "markdown",
   "metadata": {},
   "source": [
    "I chose data outside of the 3rd standard deviation as outliers but the saleprice data is positively skewed where the mean is greater than the mean. So I thought that if I included up to the upper 3rd standard deviation, it would skew the mean of the sale price. \n",
    "I decided that my outliers are data points somewhere above 2 standard deviation.  When using  1.5x the interquartile range, it would be exactly on the line of 2nd stadard deviation, so I increased the k to to 2x the interquartile range to a point approxmiately inbetween 2nd and 3rd standard deviation. "
   ]
  },
  {
   "cell_type": "code",
   "execution_count": 25,
   "metadata": {},
   "outputs": [
    {
     "name": "stdout",
     "output_type": "stream",
     "text": [
      "-122000.0\n",
      "466000.0\n"
     ]
    }
   ],
   "source": [
    "low_3std= df_train['SalePrice'].mean() - 3* df_train['SalePrice'].std()\n",
    "high_3std =  df_train['SalePrice'].mean() + 3*df_train['SalePrice'].std()\n",
    "low_2std= df_train['SalePrice'].mean() - 2* df_train['SalePrice'].std()\n",
    "high_2std =  df_train['SalePrice'].mean() + 2*df_train['SalePrice'].std()\n",
    "\n",
    "Q1 = np.percentile(df_train['SalePrice'], q=25)\n",
    "Q3 = np.percentile(df_train['SalePrice'], q=75)\n",
    "k = 2\n",
    "lower = Q1-3*(Q3-Q1)\n",
    "upper = Q3+3*(Q3-Q1)\n",
    "print(lower)\n",
    "print(upper)"
   ]
  },
  {
   "cell_type": "code",
   "execution_count": 26,
   "metadata": {},
   "outputs": [
    {
     "data": {
      "image/png": "[encoded data removed]",
      "text/plain": [
       "<matplotlib.figure.Figure at 0x7f78f5e13b00>"
      ]
     },
     "metadata": {},
     "output_type": "display_data"
    }
   ],
   "source": [
    "Q1 = np.percentile(df_train['SalePrice'], q=25)\n",
    "Q3 = np.percentile(df_train['SalePrice'], q=75)\n",
    "plt.figure(1, figsize=(15,10))\n",
    "_ = sns.distplot(df_train['SalePrice'], bins = 100, color='purple')\n",
    "plt.axvline(df_train['SalePrice'].median(), c='black')\n",
    "plt.axvline(df_train['SalePrice'].mean(), c='gray')\n",
    "plt.axvline(low_3std, linestyle='--', c='g')\n",
    "plt.axvline(high_3std, linestyle='--', c='g')\n",
    "plt.axvline(low_2std, linestyle='--', c='g')\n",
    "plt.axvline(high_2std, linestyle='--', c='g')\n",
    "plt.axvline(Q1, linestyle='--', c='r')\n",
    "plt.axvline(Q3, linestyle='--', c='b')\n",
    "plt.axvline(lower, c='r')\n",
    "plt.axvline(upper, c='blue')\n",
    "plt.show()"
   ]
  },
  {
   "cell_type": "code",
   "execution_count": 27,
   "metadata": {},
   "outputs": [
    {
     "data": {
      "text/plain": [
       "(1438, 73)"
      ]
     },
     "execution_count": 27,
     "metadata": {},
     "output_type": "execute_result"
    }
   ],
   "source": [
    "df2 = df_train[(df_train['SalePrice'] < upper)]\n",
    "df2.shape"
   ]
  },
  {
   "cell_type": "markdown",
   "metadata": {},
   "source": [
    "### B. Fill missing data!\n",
    "\n",
    "* How many null values are in each column? Make a bar plot showing this only for columns with missing data.\n",
    "* For each column with nulls, do nulls represent anything? Read the data description.\n",
    "  * Some columns that are appearing as _null_ might legitimately be known (ie: \"na\").  Double check the [data description](../data_description.txt) for proper value representation.  A feature might actually be better represented by \"not available\" or \"na\" rather than `NULL` or `NaN`.  There's a difference between `NULL` (unknown), and \"NA\" (not available).  It might mean the difference between \"there isn't a garage\" and \"there is no garage data\". \n",
    "* Fill null values for each column by imputation. Here are some common methods for imputation:\n",
    "  1. Using domain knowledge to select an appropriate value.\n",
    "  1. Value from a randomly selected row.\n",
    "  2. Mean, median, or mode value of the series.\n",
    "  3. Value estimated by a predictive model.\n",
    "* Make sure to justify your method for filling null values.\n",
    "  "
   ]
  },
  {
   "cell_type": "code",
   "execution_count": 28,
   "metadata": {
    "collapsed": true,
    "scrolled": false
   },
   "outputs": [],
   "source": [
    "total = df2.isnull().sum().sort_values(ascending=False)\n",
    "total= pd.DataFrame(total)\n",
    "\n",
    "total['Col name'] = total.index\n",
    "total.columns =['Nan_total', 'Col_name']\n",
    "null = total[(total['Nan_total'] > 0)]"
   ]
  },
  {
   "cell_type": "code",
   "execution_count": 29,
   "metadata": {},
   "outputs": [
    {
     "data": {
      "text/html": [
       "<div>\n",
       "<table border=\"1\" class=\"dataframe\">\n",
       "  <thead>\n",
       "    <tr style=\"text-align: right;\">\n",
       "      <th></th>\n",
       "      <th>Nan_total</th>\n",
       "      <th>Col_name</th>\n",
       "    </tr>\n",
       "  </thead>\n",
       "  <tbody>\n",
       "    <tr>\n",
       "      <th>PoolQC</th>\n",
       "      <td>1432</td>\n",
       "      <td>PoolQC</td>\n",
       "    </tr>\n",
       "    <tr>\n",
       "      <th>MiscFeature</th>\n",
       "      <td>1386</td>\n",
       "      <td>MiscFeature</td>\n",
       "    </tr>\n",
       "    <tr>\n",
       "      <th>Alley</th>\n",
       "      <td>1349</td>\n",
       "      <td>Alley</td>\n",
       "    </tr>\n",
       "    <tr>\n",
       "      <th>Fence</th>\n",
       "      <td>1162</td>\n",
       "      <td>Fence</td>\n",
       "    </tr>\n",
       "    <tr>\n",
       "      <th>FireplaceQu</th>\n",
       "      <td>681</td>\n",
       "      <td>FireplaceQu</td>\n",
       "    </tr>\n",
       "    <tr>\n",
       "      <th>LotFrontage</th>\n",
       "      <td>258</td>\n",
       "      <td>LotFrontage</td>\n",
       "    </tr>\n",
       "    <tr>\n",
       "      <th>GarageQual</th>\n",
       "      <td>79</td>\n",
       "      <td>GarageQual</td>\n",
       "    </tr>\n",
       "    <tr>\n",
       "      <th>GarageCond</th>\n",
       "      <td>79</td>\n",
       "      <td>GarageCond</td>\n",
       "    </tr>\n",
       "    <tr>\n",
       "      <th>GarageType</th>\n",
       "      <td>79</td>\n",
       "      <td>GarageType</td>\n",
       "    </tr>\n",
       "    <tr>\n",
       "      <th>GarageYrBlt</th>\n",
       "      <td>79</td>\n",
       "      <td>GarageYrBlt</td>\n",
       "    </tr>\n",
       "    <tr>\n",
       "      <th>GarageFinish</th>\n",
       "      <td>79</td>\n",
       "      <td>GarageFinish</td>\n",
       "    </tr>\n",
       "    <tr>\n",
       "      <th>BsmtExposure</th>\n",
       "      <td>38</td>\n",
       "      <td>BsmtExposure</td>\n",
       "    </tr>\n",
       "    <tr>\n",
       "      <th>BsmtFinType2</th>\n",
       "      <td>38</td>\n",
       "      <td>BsmtFinType2</td>\n",
       "    </tr>\n",
       "    <tr>\n",
       "      <th>BsmtQual</th>\n",
       "      <td>37</td>\n",
       "      <td>BsmtQual</td>\n",
       "    </tr>\n",
       "    <tr>\n",
       "      <th>BsmtFinType1</th>\n",
       "      <td>37</td>\n",
       "      <td>BsmtFinType1</td>\n",
       "    </tr>\n",
       "    <tr>\n",
       "      <th>BsmtCond</th>\n",
       "      <td>37</td>\n",
       "      <td>BsmtCond</td>\n",
       "    </tr>\n",
       "    <tr>\n",
       "      <th>MasVnrArea</th>\n",
       "      <td>8</td>\n",
       "      <td>MasVnrArea</td>\n",
       "    </tr>\n",
       "    <tr>\n",
       "      <th>MasVnrType</th>\n",
       "      <td>8</td>\n",
       "      <td>MasVnrType</td>\n",
       "    </tr>\n",
       "    <tr>\n",
       "      <th>Electrical</th>\n",
       "      <td>1</td>\n",
       "      <td>Electrical</td>\n",
       "    </tr>\n",
       "  </tbody>\n",
       "</table>\n",
       "</div>"
      ],
      "text/plain": [
       "              Nan_total      Col_name\n",
       "PoolQC             1432        PoolQC\n",
       "MiscFeature        1386   MiscFeature\n",
       "Alley              1349         Alley\n",
       "Fence              1162         Fence\n",
       "FireplaceQu         681   FireplaceQu\n",
       "LotFrontage         258   LotFrontage\n",
       "GarageQual           79    GarageQual\n",
       "GarageCond           79    GarageCond\n",
       "GarageType           79    GarageType\n",
       "GarageYrBlt          79   GarageYrBlt\n",
       "GarageFinish         79  GarageFinish\n",
       "BsmtExposure         38  BsmtExposure\n",
       "BsmtFinType2         38  BsmtFinType2\n",
       "BsmtQual             37      BsmtQual\n",
       "BsmtFinType1         37  BsmtFinType1\n",
       "BsmtCond             37      BsmtCond\n",
       "MasVnrArea            8    MasVnrArea\n",
       "MasVnrType            8    MasVnrType\n",
       "Electrical            1    Electrical"
      ]
     },
     "execution_count": 29,
     "metadata": {},
     "output_type": "execute_result"
    }
   ],
   "source": [
    "null"
   ]
  },
  {
   "cell_type": "code",
   "execution_count": 30,
   "metadata": {
    "scrolled": true
   },
   "outputs": [
    {
     "data": {
      "image/png": "[encoded data removed]",
      "text/plain": [
       "<matplotlib.figure.Figure at 0x7f78f5e0bb70>"
      ]
     },
     "metadata": {},
     "output_type": "display_data"
    }
   ],
   "source": [
    "_ = null.plot.bar(figsize=(7,5))"
   ]
  },
  {
   "cell_type": "markdown",
   "metadata": {},
   "source": [
    "- Lot Frontage: Linear feet of street: null value means missing data\n",
    "- MasVnrType: Masonry veneer type, null value means missing data\n",
    "- MasVnrArea: area in square feet, null means missing data\n",
    "- BsmtQual: NA could be No Basement\n",
    "- BsmtCont: NA could be No Basement\n",
    "- BsmtExposure: NA could be No Basement\n",
    "- BsmtFinType1: NA could be No Basement\n",
    "- BsmtFinType2: NA could be No Basement\n",
    "- BsmtFinSF1: Type 1 finished square feet, na means null\n",
    "- Electrical: null value means missing data\n",
    "- FirePlaceQu: NA could be No Fireplace\n",
    "- GarageType: NA could be No Garage\n",
    "- GarageyrBt: NA could be No Garage or null\n",
    "- GarageFinish: NA could be No Garage "
   ]
  },
  {
   "cell_type": "code",
   "execution_count": 31,
   "metadata": {
    "scrolled": true
   },
   "outputs": [
    {
     "name": "stderr",
     "output_type": "stream",
     "text": [
      "/opt/conda/lib/python3.6/site-packages/ipykernel_launcher.py:1: SettingWithCopyWarning: \n",
      "A value is trying to be set on a copy of a slice from a DataFrame.\n",
      "Try using .loc[row_indexer,col_indexer] = value instead\n",
      "\n",
      "See the caveats in the documentation: http://pandas.pydata.org/pandas-docs/stable/indexing.html#indexing-view-versus-copy\n",
      "  \"\"\"Entry point for launching an IPython kernel.\n"
     ]
    },
    {
     "data": {
      "text/plain": [
       "0"
      ]
     },
     "execution_count": 31,
     "metadata": {},
     "output_type": "execute_result"
    }
   ],
   "source": [
    "df2['LotFrontage'] = df2.loc[:,['LotFrontage']].fillna(df2['LotFrontage'].mean())\n",
    "df2['LotFrontage'].isnull().sum()"
   ]
  },
  {
   "cell_type": "markdown",
   "metadata": {},
   "source": [
    "Replaced missing values/nan in LotFrontage with the mean. Based on the histogram, this is a normal distribution where mean=median so adding the missing values with the mean."
   ]
  },
  {
   "cell_type": "code",
   "execution_count": 32,
   "metadata": {
    "scrolled": true
   },
   "outputs": [
    {
     "name": "stderr",
     "output_type": "stream",
     "text": [
      "/opt/conda/lib/python3.6/site-packages/ipykernel_launcher.py:1: SettingWithCopyWarning: \n",
      "A value is trying to be set on a copy of a slice from a DataFrame.\n",
      "Try using .loc[row_indexer,col_indexer] = value instead\n",
      "\n",
      "See the caveats in the documentation: http://pandas.pydata.org/pandas-docs/stable/indexing.html#indexing-view-versus-copy\n",
      "  \"\"\"Entry point for launching an IPython kernel.\n"
     ]
    },
    {
     "data": {
      "text/plain": [
       "0"
      ]
     },
     "execution_count": 32,
     "metadata": {},
     "output_type": "execute_result"
    }
   ],
   "source": [
    "df2['MasVnrArea'] = df2.loc[:,['MasVnrArea']].fillna(df2['MasVnrArea'].median())\n",
    "df2['MasVnrArea'].isnull().sum()"
   ]
  },
  {
   "cell_type": "markdown",
   "metadata": {},
   "source": [
    "Replaced missing values/nan in MasVnrArea with the mode since the most of the data in this column is 0 and it is also the median, and there are only 7 missing values. "
   ]
  },
  {
   "cell_type": "code",
   "execution_count": 33,
   "metadata": {
    "collapsed": true
   },
   "outputs": [],
   "source": [
    "# MsVnr_df = df2[['MasVnrType', 'MasVnrArea']]\n",
    "# MsVnr_df = MsVnr_df[MsVnr_df.MasVnrType.isin([np.NaN])]\n",
    "# MsVnr_df"
   ]
  },
  {
   "cell_type": "code",
   "execution_count": 34,
   "metadata": {},
   "outputs": [
    {
     "name": "stderr",
     "output_type": "stream",
     "text": [
      "/opt/conda/lib/python3.6/site-packages/ipykernel_launcher.py:1: SettingWithCopyWarning: \n",
      "A value is trying to be set on a copy of a slice from a DataFrame.\n",
      "Try using .loc[row_indexer,col_indexer] = value instead\n",
      "\n",
      "See the caveats in the documentation: http://pandas.pydata.org/pandas-docs/stable/indexing.html#indexing-view-versus-copy\n",
      "  \"\"\"Entry point for launching an IPython kernel.\n"
     ]
    },
    {
     "data": {
      "text/plain": [
       "0"
      ]
     },
     "execution_count": 34,
     "metadata": {},
     "output_type": "execute_result"
    }
   ],
   "source": [
    "df2['MasVnrType'] = df2.loc[:,['MasVnrType']].fillna('None')\n",
    "df2['MasVnrType'].isnull().sum()"
   ]
  },
  {
   "cell_type": "markdown",
   "metadata": {},
   "source": [
    "After comparing the values in columns 'MasVnrType', and 'MasVnrArea', the  dataframe shows there are 7 rows where there is 0 sf of MasMvrArea where there are Nan values.  This means that the NaN values could be 'None', as it is also the mode value of the the column 'MasVnrType."
   ]
  },
  {
   "cell_type": "code",
   "execution_count": 35,
   "metadata": {},
   "outputs": [
    {
     "data": {
      "text/plain": [
       "0    SBrkr\n",
       "dtype: object"
      ]
     },
     "execution_count": 35,
     "metadata": {},
     "output_type": "execute_result"
    }
   ],
   "source": [
    "df2['Electrical'].mode()"
   ]
  },
  {
   "cell_type": "markdown",
   "metadata": {},
   "source": [
    "Replace missing values/nan in 'Electrical' with the most popular type 'SBrk' since it has the highest value count and over 90% of the data has this type. It is most likely that the null value is this type. Since there is only 1 value missing, adding this to the overall number of SBrkr also does not have a significant affect on the data"
   ]
  },
  {
   "cell_type": "code",
   "execution_count": 36,
   "metadata": {},
   "outputs": [
    {
     "name": "stderr",
     "output_type": "stream",
     "text": [
      "/opt/conda/lib/python3.6/site-packages/ipykernel_launcher.py:1: SettingWithCopyWarning: \n",
      "A value is trying to be set on a copy of a slice from a DataFrame.\n",
      "Try using .loc[row_indexer,col_indexer] = value instead\n",
      "\n",
      "See the caveats in the documentation: http://pandas.pydata.org/pandas-docs/stable/indexing.html#indexing-view-versus-copy\n",
      "  \"\"\"Entry point for launching an IPython kernel.\n"
     ]
    },
    {
     "data": {
      "text/plain": [
       "0"
      ]
     },
     "execution_count": 36,
     "metadata": {},
     "output_type": "execute_result"
    }
   ],
   "source": [
    "df2['Electrical'] = df2.loc[:,['Electrical']].fillna('SBrkr')\n",
    "df2['Electrical'].isnull().sum()"
   ]
  },
  {
   "cell_type": "code",
   "execution_count": 37,
   "metadata": {
    "scrolled": true
   },
   "outputs": [],
   "source": [
    "df_garage = df2[['GarageArea','GarageType', 'GarageYrBlt', 'GarageFinish', 'GarageCond','GarageQual']]\n",
    "df_garage = df_garage[df_garage.GarageArea.isin([0])]\n",
    "# display(df_garage[df_garage['GarageType'].isnull()])"
   ]
  },
  {
   "cell_type": "markdown",
   "metadata": {},
   "source": [
    "Replace all Nan values in 'GarageType', 'GarageYrBlt', 'GarageFinish', 'GarageQual' with 'NA' which stands for No Garage. When checking these NaN values in each of these columns, it can be deduced from the GarageArae column that if the squarefootage of the garage is = 0, then GarageYrBlt, GarageFinish, and GarageQual would be NA (as in there is no garage, not there is no garage data available)"
   ]
  },
  {
   "cell_type": "code",
   "execution_count": 38,
   "metadata": {
    "scrolled": false
   },
   "outputs": [
    {
     "name": "stderr",
     "output_type": "stream",
     "text": [
      "/opt/conda/lib/python3.6/site-packages/ipykernel_launcher.py:2: SettingWithCopyWarning: \n",
      "A value is trying to be set on a copy of a slice from a DataFrame.\n",
      "Try using .loc[row_indexer,col_indexer] = value instead\n",
      "\n",
      "See the caveats in the documentation: http://pandas.pydata.org/pandas-docs/stable/indexing.html#indexing-view-versus-copy\n",
      "  \n"
     ]
    },
    {
     "name": "stdout",
     "output_type": "stream",
     "text": [
      "0\n",
      "0\n",
      "0\n",
      "0\n",
      "0\n",
      "0\n"
     ]
    }
   ],
   "source": [
    "for col in df_garage:\n",
    "    df2[col] = df2.loc[:,[col]].fillna('NA')\n",
    "    print(df2[col].isnull().sum())"
   ]
  },
  {
   "cell_type": "code",
   "execution_count": 39,
   "metadata": {
    "scrolled": false
   },
   "outputs": [
    {
     "name": "stderr",
     "output_type": "stream",
     "text": [
      "/opt/conda/lib/python3.6/site-packages/ipykernel_launcher.py:4: SettingWithCopyWarning: \n",
      "A value is trying to be set on a copy of a slice from a DataFrame.\n",
      "Try using .loc[row_indexer,col_indexer] = value instead\n",
      "\n",
      "See the caveats in the documentation: http://pandas.pydata.org/pandas-docs/stable/indexing.html#indexing-view-versus-copy\n",
      "  after removing the cwd from sys.path.\n"
     ]
    },
    {
     "data": {
      "text/plain": [
       "0"
      ]
     },
     "execution_count": 39,
     "metadata": {},
     "output_type": "execute_result"
    }
   ],
   "source": [
    "fireplaces = df2[['Fireplaces', 'FireplaceQu']]\n",
    "fireplaces = fireplaces[fireplaces.Fireplaces.isin([0])]\n",
    "fireplaces['FireplaceQu'].isnull().sum()\n",
    "df2['FireplaceQu'] = df2.loc[:,['FireplaceQu']].fillna('NA')\n",
    "df2['FireplaceQu'].isnull().sum()"
   ]
  },
  {
   "cell_type": "markdown",
   "metadata": {},
   "source": [
    "After comparing the values in the columns Fireplaces and FireplaceQu, the fireplaces dataframe shows that there are 681 rows where there is 0 fireplace in the house sold. These are the same rows where values in FireplaceQu were shown as NaN but they should be 'NA' which means that there is no fireplace, not Null value (unknown data). "
   ]
  },
  {
   "cell_type": "code",
   "execution_count": 40,
   "metadata": {
    "collapsed": true,
    "scrolled": false
   },
   "outputs": [],
   "source": [
    "df_base = df2[['BsmtFinSF1','BsmtFinSF2','BsmtFinType2', 'BsmtExposure', 'BsmtQual', 'BsmtFinType1', 'BsmtCond']]\n",
    "df_base= df_base[df_base.BsmtCond.isin([np.NaN])]\n",
    "# df_base"
   ]
  },
  {
   "cell_type": "markdown",
   "metadata": {},
   "source": [
    "After comparing the values in  columns 'BsmtFinSF1','BsmtFinSF2','BsmtFinType2', 'BsmtExposure', 'BsmtQual', 'BsmtFinType1', 'BsmtCond', the basement dataframe shows there are 38 rows where there is 0 sf of finished basement in the same rows where there are Nan values for 'BsmtFinType2', 'BsmtExposure', 'BsmtQual', 'BsmtFinType1', 'BsmtCond'. This means that the NaN values should be 'NA/No basement' because there is no basement in these houses since the sq of the basement is 0. So I replace the Null values with 'NA'. "
   ]
  },
  {
   "cell_type": "code",
   "execution_count": 41,
   "metadata": {},
   "outputs": [
    {
     "name": "stderr",
     "output_type": "stream",
     "text": [
      "/opt/conda/lib/python3.6/site-packages/ipykernel_launcher.py:2: SettingWithCopyWarning: \n",
      "A value is trying to be set on a copy of a slice from a DataFrame.\n",
      "Try using .loc[row_indexer,col_indexer] = value instead\n",
      "\n",
      "See the caveats in the documentation: http://pandas.pydata.org/pandas-docs/stable/indexing.html#indexing-view-versus-copy\n",
      "  \n"
     ]
    },
    {
     "name": "stdout",
     "output_type": "stream",
     "text": [
      "0\n",
      "0\n",
      "0\n",
      "0\n",
      "0\n",
      "0\n",
      "0\n"
     ]
    }
   ],
   "source": [
    "for col in df_base:\n",
    "    df2[col] = df2.loc[:,[col]].fillna('NA')\n",
    "    print(df2[col].isnull().sum())"
   ]
  },
  {
   "cell_type": "code",
   "execution_count": 42,
   "metadata": {
    "scrolled": true
   },
   "outputs": [
    {
     "name": "stdout",
     "output_type": "stream",
     "text": [
      "0\n",
      "0\n",
      "0\n",
      "0\n"
     ]
    },
    {
     "name": "stderr",
     "output_type": "stream",
     "text": [
      "/opt/conda/lib/python3.6/site-packages/ipykernel_launcher.py:3: SettingWithCopyWarning: \n",
      "A value is trying to be set on a copy of a slice from a DataFrame.\n",
      "Try using .loc[row_indexer,col_indexer] = value instead\n",
      "\n",
      "See the caveats in the documentation: http://pandas.pydata.org/pandas-docs/stable/indexing.html#indexing-view-versus-copy\n",
      "  This is separate from the ipykernel package so we can avoid doing imports until\n"
     ]
    }
   ],
   "source": [
    "df_NA = df2[['PoolQC','MiscFeature','Alley', 'Fence']]\n",
    "for col in df_NA:\n",
    "    df2[col] = df2.loc[:,[col]].fillna('NA')\n",
    "    print(df2[col].isnull().sum())"
   ]
  },
  {
   "cell_type": "markdown",
   "metadata": {},
   "source": [
    "Verify that you have *truly* eliminated all the null values!"
   ]
  },
  {
   "cell_type": "code",
   "execution_count": 43,
   "metadata": {},
   "outputs": [
    {
     "data": {
      "text/plain": [
       "SalePrice       0\n",
       "BsmtUnfSF       0\n",
       "RoofStyle       0\n",
       "RoofMatl        0\n",
       "Exterior1st     0\n",
       "Exterior2nd     0\n",
       "MasVnrType      0\n",
       "MasVnrArea      0\n",
       "ExterQual       0\n",
       "ExterCond       0\n",
       "Foundation      0\n",
       "BsmtQual        0\n",
       "BsmtCond        0\n",
       "BsmtExposure    0\n",
       "BsmtFinType1    0\n",
       "BsmtFinSF1      0\n",
       "BsmtFinType2    0\n",
       "YearRemodAdd    0\n",
       "YearBuilt       0\n",
       "OverallCond     0\n",
       "Utilities       0\n",
       "MSZoning        0\n",
       "LotFrontage     0\n",
       "Street          0\n",
       "Alley           0\n",
       "LotShape        0\n",
       "LandContour     0\n",
       "LotConfig       0\n",
       "OverallQual     0\n",
       "LandSlope       0\n",
       "               ..\n",
       "GarageCond      0\n",
       "PavedDrive      0\n",
       "WoodDeckSF      0\n",
       "OpenPorchSF     0\n",
       "ScreenPorch     0\n",
       "PoolArea        0\n",
       "PoolQC          0\n",
       "Fence           0\n",
       "MiscFeature     0\n",
       "MoSold          0\n",
       "SaleType        0\n",
       "GarageYrBlt     0\n",
       "GarageType      0\n",
       "FireplaceQu     0\n",
       "BsmtFullBath    0\n",
       "HeatingQC       0\n",
       "CentralAir      0\n",
       "Electrical      0\n",
       "1stFlrSF        0\n",
       "2ndFlrSF        0\n",
       "GrLivArea       0\n",
       "BsmtHalfBath    0\n",
       "Fireplaces      0\n",
       "FullBath        0\n",
       "BedroomAbvGr    0\n",
       "KitchenAbvGr    0\n",
       "KitchenQual     0\n",
       "TotRmsAbvGrd    0\n",
       "Functional      0\n",
       "MSSubClass      0\n",
       "dtype: int64"
      ]
     },
     "execution_count": 43,
     "metadata": {},
     "output_type": "execute_result"
    }
   ],
   "source": [
    "df2.isnull().sum().sort_values(ascending=False)"
   ]
  },
  {
   "cell_type": "markdown",
   "metadata": {},
   "source": [
    "### C. Create dummy variables for categorical columns\n",
    "\n",
    "Use `pd.get_dummies()` to turn your categorical features into numeric features. Make sure there are **no null values** in your dataset before you do this!"
   ]
  },
  {
   "cell_type": "code",
   "execution_count": 44,
   "metadata": {},
   "outputs": [
    {
     "data": {
      "text/html": [
       "<div>\n",
       "<table border=\"1\" class=\"dataframe\">\n",
       "  <thead>\n",
       "    <tr style=\"text-align: right;\">\n",
       "      <th></th>\n",
       "      <th>LotFrontage</th>\n",
       "      <th>OverallQual</th>\n",
       "      <th>OverallCond</th>\n",
       "      <th>YearBuilt</th>\n",
       "      <th>YearRemodAdd</th>\n",
       "      <th>MasVnrArea</th>\n",
       "      <th>BsmtFinSF1</th>\n",
       "      <th>BsmtFinSF2</th>\n",
       "      <th>BsmtUnfSF</th>\n",
       "      <th>TotalBsmtSF</th>\n",
       "      <th>...</th>\n",
       "      <th>SaleType_ConLw</th>\n",
       "      <th>SaleType_New</th>\n",
       "      <th>SaleType_Oth</th>\n",
       "      <th>SaleType_WD</th>\n",
       "      <th>SaleCondition_Abnorml</th>\n",
       "      <th>SaleCondition_AdjLand</th>\n",
       "      <th>SaleCondition_Alloca</th>\n",
       "      <th>SaleCondition_Family</th>\n",
       "      <th>SaleCondition_Normal</th>\n",
       "      <th>SaleCondition_Partial</th>\n",
       "    </tr>\n",
       "    <tr>\n",
       "      <th>Id</th>\n",
       "      <th></th>\n",
       "      <th></th>\n",
       "      <th></th>\n",
       "      <th></th>\n",
       "      <th></th>\n",
       "      <th></th>\n",
       "      <th></th>\n",
       "      <th></th>\n",
       "      <th></th>\n",
       "      <th></th>\n",
       "      <th></th>\n",
       "      <th></th>\n",
       "      <th></th>\n",
       "      <th></th>\n",
       "      <th></th>\n",
       "      <th></th>\n",
       "      <th></th>\n",
       "      <th></th>\n",
       "      <th></th>\n",
       "      <th></th>\n",
       "      <th></th>\n",
       "    </tr>\n",
       "  </thead>\n",
       "  <tbody>\n",
       "    <tr>\n",
       "      <th>1</th>\n",
       "      <td>65.0</td>\n",
       "      <td>7</td>\n",
       "      <td>5</td>\n",
       "      <td>2003</td>\n",
       "      <td>2003</td>\n",
       "      <td>196.0</td>\n",
       "      <td>706</td>\n",
       "      <td>0</td>\n",
       "      <td>150</td>\n",
       "      <td>856</td>\n",
       "      <td>...</td>\n",
       "      <td>0</td>\n",
       "      <td>0</td>\n",
       "      <td>0</td>\n",
       "      <td>1</td>\n",
       "      <td>0</td>\n",
       "      <td>0</td>\n",
       "      <td>0</td>\n",
       "      <td>0</td>\n",
       "      <td>1</td>\n",
       "      <td>0</td>\n",
       "    </tr>\n",
       "    <tr>\n",
       "      <th>2</th>\n",
       "      <td>80.0</td>\n",
       "      <td>6</td>\n",
       "      <td>8</td>\n",
       "      <td>1976</td>\n",
       "      <td>1976</td>\n",
       "      <td>0.0</td>\n",
       "      <td>978</td>\n",
       "      <td>0</td>\n",
       "      <td>284</td>\n",
       "      <td>1262</td>\n",
       "      <td>...</td>\n",
       "      <td>0</td>\n",
       "      <td>0</td>\n",
       "      <td>0</td>\n",
       "      <td>1</td>\n",
       "      <td>0</td>\n",
       "      <td>0</td>\n",
       "      <td>0</td>\n",
       "      <td>0</td>\n",
       "      <td>1</td>\n",
       "      <td>0</td>\n",
       "    </tr>\n",
       "    <tr>\n",
       "      <th>3</th>\n",
       "      <td>68.0</td>\n",
       "      <td>7</td>\n",
       "      <td>5</td>\n",
       "      <td>2001</td>\n",
       "      <td>2002</td>\n",
       "      <td>162.0</td>\n",
       "      <td>486</td>\n",
       "      <td>0</td>\n",
       "      <td>434</td>\n",
       "      <td>920</td>\n",
       "      <td>...</td>\n",
       "      <td>0</td>\n",
       "      <td>0</td>\n",
       "      <td>0</td>\n",
       "      <td>1</td>\n",
       "      <td>0</td>\n",
       "      <td>0</td>\n",
       "      <td>0</td>\n",
       "      <td>0</td>\n",
       "      <td>1</td>\n",
       "      <td>0</td>\n",
       "    </tr>\n",
       "    <tr>\n",
       "      <th>4</th>\n",
       "      <td>60.0</td>\n",
       "      <td>7</td>\n",
       "      <td>5</td>\n",
       "      <td>1915</td>\n",
       "      <td>1970</td>\n",
       "      <td>0.0</td>\n",
       "      <td>216</td>\n",
       "      <td>0</td>\n",
       "      <td>540</td>\n",
       "      <td>756</td>\n",
       "      <td>...</td>\n",
       "      <td>0</td>\n",
       "      <td>0</td>\n",
       "      <td>0</td>\n",
       "      <td>1</td>\n",
       "      <td>1</td>\n",
       "      <td>0</td>\n",
       "      <td>0</td>\n",
       "      <td>0</td>\n",
       "      <td>0</td>\n",
       "      <td>0</td>\n",
       "    </tr>\n",
       "    <tr>\n",
       "      <th>5</th>\n",
       "      <td>84.0</td>\n",
       "      <td>8</td>\n",
       "      <td>5</td>\n",
       "      <td>2000</td>\n",
       "      <td>2000</td>\n",
       "      <td>350.0</td>\n",
       "      <td>655</td>\n",
       "      <td>0</td>\n",
       "      <td>490</td>\n",
       "      <td>1145</td>\n",
       "      <td>...</td>\n",
       "      <td>0</td>\n",
       "      <td>0</td>\n",
       "      <td>0</td>\n",
       "      <td>1</td>\n",
       "      <td>0</td>\n",
       "      <td>0</td>\n",
       "      <td>0</td>\n",
       "      <td>0</td>\n",
       "      <td>1</td>\n",
       "      <td>0</td>\n",
       "    </tr>\n",
       "  </tbody>\n",
       "</table>\n",
       "<p>5 rows × 405 columns</p>\n",
       "</div>"
      ],
      "text/plain": [
       "    LotFrontage  OverallQual  OverallCond  YearBuilt  YearRemodAdd  \\\n",
       "Id                                                                   \n",
       "1          65.0            7            5       2003          2003   \n",
       "2          80.0            6            8       1976          1976   \n",
       "3          68.0            7            5       2001          2002   \n",
       "4          60.0            7            5       1915          1970   \n",
       "5          84.0            8            5       2000          2000   \n",
       "\n",
       "    MasVnrArea  BsmtFinSF1  BsmtFinSF2  BsmtUnfSF  TotalBsmtSF  \\\n",
       "Id                                                               \n",
       "1        196.0         706           0        150          856   \n",
       "2          0.0         978           0        284         1262   \n",
       "3        162.0         486           0        434          920   \n",
       "4          0.0         216           0        540          756   \n",
       "5        350.0         655           0        490         1145   \n",
       "\n",
       "            ...            SaleType_ConLw  SaleType_New  SaleType_Oth  \\\n",
       "Id          ...                                                         \n",
       "1           ...                         0             0             0   \n",
       "2           ...                         0             0             0   \n",
       "3           ...                         0             0             0   \n",
       "4           ...                         0             0             0   \n",
       "5           ...                         0             0             0   \n",
       "\n",
       "    SaleType_WD  SaleCondition_Abnorml  SaleCondition_AdjLand  \\\n",
       "Id                                                              \n",
       "1             1                      0                      0   \n",
       "2             1                      0                      0   \n",
       "3             1                      0                      0   \n",
       "4             1                      1                      0   \n",
       "5             1                      0                      0   \n",
       "\n",
       "    SaleCondition_Alloca  SaleCondition_Family  SaleCondition_Normal  \\\n",
       "Id                                                                     \n",
       "1                      0                     0                     1   \n",
       "2                      0                     0                     1   \n",
       "3                      0                     0                     1   \n",
       "4                      0                     0                     0   \n",
       "5                      0                     0                     1   \n",
       "\n",
       "    SaleCondition_Partial  \n",
       "Id                         \n",
       "1                       0  \n",
       "2                       0  \n",
       "3                       0  \n",
       "4                       0  \n",
       "5                       0  \n",
       "\n",
       "[5 rows x 405 columns]"
      ]
     },
     "execution_count": 44,
     "metadata": {},
     "output_type": "execute_result"
    }
   ],
   "source": [
    "df_dummies = pd.get_dummies(df2)\n",
    "df_dummies.head()"
   ]
  },
  {
   "cell_type": "code",
   "execution_count": 45,
   "metadata": {
    "collapsed": true
   },
   "outputs": [],
   "source": [
    "df_dummies= df_dummies.drop(['SalePrice'], axis=1)"
   ]
  },
  {
   "cell_type": "markdown",
   "metadata": {},
   "source": [
    "### D. Split your data into a train and test set.\n",
    "\n",
    "* Use `train_test_split` to hold out a test set. \n",
    "* Why do we hold out a test set?"
   ]
  },
  {
   "cell_type": "code",
   "execution_count": 46,
   "metadata": {
    "collapsed": true
   },
   "outputs": [],
   "source": [
    "from sklearn.model_selection import train_test_split"
   ]
  },
  {
   "cell_type": "code",
   "execution_count": 47,
   "metadata": {
    "collapsed": true
   },
   "outputs": [],
   "source": [
    "seed = 42\n",
    "target = df2['SalePrice']\n",
    "X_train, X_test, y_train, y_test = train_test_split(df_dummies,\n",
    "                                                    target,\n",
    "                                                    train_size = .8,\n",
    "                                                    random_state = seed)\n"
   ]
  },
  {
   "cell_type": "markdown",
   "metadata": {},
   "source": [
    "We hold out a test set because we need to understand how our model performs on data it hasn't seen. We may create a model that fits our training data very well but does not score well on the test set, suggesting that it won't predict well given new data. With a test set, we can understand how our model performs on unseen data."
   ]
  },
  {
   "cell_type": "markdown",
   "metadata": {},
   "source": [
    "### E. Scale the data\n",
    "\n",
    "Make sure to...\n",
    "* instantiate a `StandardScaler` object\n",
    "* `fit` the scaler on your training data\n",
    "* `transform` both your training and test data."
   ]
  },
  {
   "cell_type": "code",
   "execution_count": 48,
   "metadata": {
    "collapsed": true
   },
   "outputs": [],
   "source": [
    "from sklearn.preprocessing import StandardScaler\n",
    "\n",
    "scaler = StandardScaler()\n",
    "X_train_scaled = scaler.fit_transform(X_train)\n",
    "X_test_scaled = scaler.transform(X_test)"
   ]
  },
  {
   "cell_type": "markdown",
   "metadata": {},
   "source": [
    "## 4. Modeling\n",
    "\n",
    "Now that you've completed your EDA, you can now use your training data to build a model to predict home price from your features! As far as regression methods, you've learned a few, including ordinary least squares (a.k.a. `LinearRegression`), `Lasso`, `Ridge`, and `ElasticNet`. "
   ]
  },
  {
   "cell_type": "markdown",
   "metadata": {},
   "source": [
    "### A. Benchmarking\n",
    "\n",
    "As we get started with modeling we should have some basis for comparison to get a sense of what a \"good\" model is for this task. \n",
    "\n",
    "For this task, as we will be focusing on linear models, we will use the most naive of the linear models, the Linear Regression as our benchmark. "
   ]
  },
  {
   "cell_type": "code",
   "execution_count": 49,
   "metadata": {},
   "outputs": [
    {
     "name": "stdout",
     "output_type": "stream",
     "text": [
      "0.944942911381\n",
      "-9.6102509773e+22\n"
     ]
    }
   ],
   "source": [
    "from sklearn.linear_model import LinearRegression, Ridge, Lasso, SGDRegressor\n",
    "\n",
    "\n",
    "lr = LinearRegression()\n",
    "\n",
    "lr.fit(X_train_scaled, y_train)\n",
    "\n",
    "print(lr.score(X_train_scaled, y_train))\n",
    "print(lr.score(X_test_scaled, y_test))"
   ]
  },
  {
   "cell_type": "markdown",
   "metadata": {},
   "source": [
    "#### Results Dictionary"
   ]
  },
  {
   "cell_type": "markdown",
   "metadata": {},
   "source": [
    "Make a results `list` to hold your results. After each model fit and score, you will add a dictionary of your results to this list using `.append()`. This will give you a list of dictionaries ... perfect for a DataFrame!\n",
    "\n",
    "This is the pattern you will be using:"
   ]
  },
  {
   "cell_type": "code",
   "execution_count": 50,
   "metadata": {
    "collapsed": true
   },
   "outputs": [],
   "source": [
    "results = list()"
   ]
  },
  {
   "cell_type": "code",
   "execution_count": 51,
   "metadata": {},
   "outputs": [],
   "source": [
    "# example_results = results()\n",
    "# result_1 = {'name':'test1','dataset' : 'train','preprocessing': 'raw','score': '10 bajillion'}\n",
    "# example_results.append(result_1)\n",
    "# result_2 = {'name':'test1','dataset' : 'train','preprocessing': 'scaled','score': '20 bajillion'}\n",
    "# example_results.append(result_2)"
   ]
  },
  {
   "cell_type": "markdown",
   "metadata": {},
   "source": [
    "Then we pass the results list to pass to a DataFrame."
   ]
  },
  {
   "cell_type": "code",
   "execution_count": 52,
   "metadata": {},
   "outputs": [],
   "source": [
    "# pd.DataFrame(example_results)"
   ]
  },
  {
   "cell_type": "markdown",
   "metadata": {},
   "source": [
    "This gives us a convenient tool for manipulating our results and tracking our work ... our old friend, Pandas!"
   ]
  },
  {
   "cell_type": "markdown",
   "metadata": {},
   "source": [
    "#### Make a new results list."
   ]
  },
  {
   "cell_type": "code",
   "execution_count": 53,
   "metadata": {
    "collapsed": true
   },
   "outputs": [],
   "source": [
    "results = list()"
   ]
  },
  {
   "cell_type": "markdown",
   "metadata": {},
   "source": [
    "#### Raw Benchmark"
   ]
  },
  {
   "cell_type": "markdown",
   "metadata": {},
   "source": [
    "Instantiate a new `LinearRegression` model and save it as `benchmark_raw`."
   ]
  },
  {
   "cell_type": "code",
   "execution_count": 54,
   "metadata": {
    "collapsed": true
   },
   "outputs": [],
   "source": [
    "benchmark_raw = LinearRegression()"
   ]
  },
  {
   "cell_type": "code",
   "execution_count": 55,
   "metadata": {
    "collapsed": true
   },
   "outputs": [],
   "source": [
    "benchmark_scaled = LinearRegression()"
   ]
  },
  {
   "cell_type": "markdown",
   "metadata": {},
   "source": [
    "- Fit the `benchmark_raw` model against the raw training data. \n",
    "- Score the `benchmark_raw` model against both the raw training set and the raw testing set. \n",
    "- Apprend a results dictionary to the `results` list. \n",
    "\n",
    "You could do this by\n",
    "\n",
    "    results.append({'name':'benchmark',\n",
    "                    'model': benchmark_raw,\n",
    "                    'dataset' : 'train',\n",
    "                    'preprocessing': 'raw',\n",
    "                    'score': raw_train_score})\n",
    "                    \n",
    "Of course you can store a model in a dictionary!                    "
   ]
  },
  {
   "cell_type": "code",
   "execution_count": 56,
   "metadata": {
    "collapsed": true
   },
   "outputs": [],
   "source": [
    "benchmark_raw.fit(X_train, y_train)\n",
    "raw_train_score = benchmark_raw.score(X_train, y_train)\n",
    "raw_test_score = benchmark_raw.score(X_test, y_test)\n",
    "\n",
    "results.append({'name':'benchmark',\n",
    "                'model':benchmark_raw,\n",
    "                'dataset' : 'train',\n",
    "                'preprocessing': 'raw',\n",
    "                'score': raw_train_score})\n",
    "results.append({'name':'benchmark',\n",
    "                'model':benchmark_raw,\n",
    "                'dataset' : 'test',\n",
    "                'preprocessing': 'raw',\n",
    "                'score': raw_test_score})"
   ]
  },
  {
   "cell_type": "code",
   "execution_count": 57,
   "metadata": {
    "collapsed": true
   },
   "outputs": [],
   "source": [
    "benchmark_scaled.fit(X_train_scaled, y_train)\n",
    "scaled_train_score = benchmark_scaled.score(X_train_scaled, y_train)\n",
    "scaled_test_score = benchmark_scaled.score(X_test_scaled, y_test)\n",
    "\n",
    "results.append({'name':'benchmark',\n",
    "                'model':benchmark_scaled,\n",
    "                'dataset' : 'train_scaled',\n",
    "                'preprocessing': 'scaled',\n",
    "                'score': scaled_train_score})\n",
    "results.append({'name':'benchmark',\n",
    "                'model':benchmark_scaled,\n",
    "                'dataset' : 'test_scaled',\n",
    "                'preprocessing': 'scaled',\n",
    "                'score': scaled_test_score})"
   ]
  },
  {
   "cell_type": "markdown",
   "metadata": {},
   "source": [
    "#### Scaled Benchmark"
   ]
  },
  {
   "cell_type": "markdown",
   "metadata": {},
   "source": [
    "- Fit the `benchmark_scaled` model against the scaled training data. \n",
    "- Score the `benchmark_scaled` model against both the scaled training set and the scaled testing set. \n",
    "- Write the results to the results `list`. "
   ]
  },
  {
   "cell_type": "code",
   "execution_count": 58,
   "metadata": {},
   "outputs": [
    {
     "data": {
      "text/plain": [
       "[{'dataset': 'train',\n",
       "  'model': LinearRegression(copy_X=True, fit_intercept=True, n_jobs=1, normalize=False),\n",
       "  'name': 'benchmark',\n",
       "  'preprocessing': 'raw',\n",
       "  'score': 0.94494678299952772},\n",
       " {'dataset': 'test',\n",
       "  'model': LinearRegression(copy_X=True, fit_intercept=True, n_jobs=1, normalize=False),\n",
       "  'name': 'benchmark',\n",
       "  'preprocessing': 'raw',\n",
       "  'score': -2570887397.2609377},\n",
       " {'dataset': 'train_scaled',\n",
       "  'model': LinearRegression(copy_X=True, fit_intercept=True, n_jobs=1, normalize=False),\n",
       "  'name': 'benchmark',\n",
       "  'preprocessing': 'scaled',\n",
       "  'score': 0.94494291138149933},\n",
       " {'dataset': 'test_scaled',\n",
       "  'model': LinearRegression(copy_X=True, fit_intercept=True, n_jobs=1, normalize=False),\n",
       "  'name': 'benchmark',\n",
       "  'preprocessing': 'scaled',\n",
       "  'score': -9.610250977296383e+22}]"
      ]
     },
     "execution_count": 58,
     "metadata": {},
     "output_type": "execute_result"
    }
   ],
   "source": [
    "results"
   ]
  },
  {
   "cell_type": "markdown",
   "metadata": {},
   "source": [
    "Use a DataFrame to display your results."
   ]
  },
  {
   "cell_type": "code",
   "execution_count": 59,
   "metadata": {},
   "outputs": [
    {
     "data": {
      "text/html": [
       "<div>\n",
       "<table border=\"1\" class=\"dataframe\">\n",
       "  <thead>\n",
       "    <tr style=\"text-align: right;\">\n",
       "      <th></th>\n",
       "      <th>dataset</th>\n",
       "      <th>model</th>\n",
       "      <th>name</th>\n",
       "      <th>preprocessing</th>\n",
       "      <th>score</th>\n",
       "    </tr>\n",
       "  </thead>\n",
       "  <tbody>\n",
       "    <tr>\n",
       "      <th>0</th>\n",
       "      <td>train</td>\n",
       "      <td>LinearRegression(copy_X=True, fit_intercept=Tr...</td>\n",
       "      <td>benchmark</td>\n",
       "      <td>raw</td>\n",
       "      <td>9.449468e-01</td>\n",
       "    </tr>\n",
       "    <tr>\n",
       "      <th>1</th>\n",
       "      <td>test</td>\n",
       "      <td>LinearRegression(copy_X=True, fit_intercept=Tr...</td>\n",
       "      <td>benchmark</td>\n",
       "      <td>raw</td>\n",
       "      <td>-2.570887e+09</td>\n",
       "    </tr>\n",
       "    <tr>\n",
       "      <th>2</th>\n",
       "      <td>train_scaled</td>\n",
       "      <td>LinearRegression(copy_X=True, fit_intercept=Tr...</td>\n",
       "      <td>benchmark</td>\n",
       "      <td>scaled</td>\n",
       "      <td>9.449429e-01</td>\n",
       "    </tr>\n",
       "    <tr>\n",
       "      <th>3</th>\n",
       "      <td>test_scaled</td>\n",
       "      <td>LinearRegression(copy_X=True, fit_intercept=Tr...</td>\n",
       "      <td>benchmark</td>\n",
       "      <td>scaled</td>\n",
       "      <td>-9.610251e+22</td>\n",
       "    </tr>\n",
       "  </tbody>\n",
       "</table>\n",
       "</div>"
      ],
      "text/plain": [
       "        dataset                                              model       name  \\\n",
       "0         train  LinearRegression(copy_X=True, fit_intercept=Tr...  benchmark   \n",
       "1          test  LinearRegression(copy_X=True, fit_intercept=Tr...  benchmark   \n",
       "2  train_scaled  LinearRegression(copy_X=True, fit_intercept=Tr...  benchmark   \n",
       "3   test_scaled  LinearRegression(copy_X=True, fit_intercept=Tr...  benchmark   \n",
       "\n",
       "  preprocessing         score  \n",
       "0           raw  9.449468e-01  \n",
       "1           raw -2.570887e+09  \n",
       "2        scaled  9.449429e-01  \n",
       "3        scaled -9.610251e+22  "
      ]
     },
     "execution_count": 59,
     "metadata": {},
     "output_type": "execute_result"
    }
   ],
   "source": [
    "pd.DataFrame(results)"
   ]
  },
  {
   "cell_type": "markdown",
   "metadata": {},
   "source": [
    "#### What are your observations? Add them to this markdown cell.\n",
    "\n",
    "---\n"
   ]
  },
  {
   "cell_type": "markdown",
   "metadata": {},
   "source": [
    "### B. Naive Regularization\n",
    "\n",
    "Next, prepare a series of fits using the three regularized linear regression models with their default settings.\n",
    "\n",
    "Perform each of these against both the raw and the scaled data. In this section, you should be fitting six models.\n",
    "\n",
    "- A naive Ridge Regression against the raw data\n",
    "- A naive Lasso Regression against the raw data\n",
    "- A naive ElasticNet Regression against the raw data\n",
    "- A naive Ridge Regression against the scaled data\n",
    "- A naive Lasso Regression against the scaled data\n",
    "- A naive ElasticNet Regression against the scaled data\n",
    "\n",
    "**NOTE:** By \"naive\" we mean using all of the default settings."
   ]
  },
  {
   "cell_type": "code",
   "execution_count": 60,
   "metadata": {
    "collapsed": true
   },
   "outputs": [],
   "source": [
    "from sklearn.linear_model import Ridge, Lasso, ElasticNet"
   ]
  },
  {
   "cell_type": "code",
   "execution_count": 61,
   "metadata": {
    "collapsed": true
   },
   "outputs": [],
   "source": [
    "Ridge_raw = Ridge()\n",
    "Ridge_scaled = Ridge()\n",
    "Lasso_raw = Lasso()\n",
    "Lasso_scaled = Lasso()\n",
    "sgd_raw = SGDRegressor()\n",
    "sgd_scaled = SGDRegressor()"
   ]
  },
  {
   "cell_type": "code",
   "execution_count": 62,
   "metadata": {
    "collapsed": true
   },
   "outputs": [],
   "source": [
    "Ridge_raw.fit(X_train, y_train)\n",
    "raw_train_score = Ridge_raw.score(X_train, y_train)\n",
    "raw_test_score = Ridge_raw.score(X_test, y_test)\n",
    "\n",
    "results.append({'name':'Ridge',\n",
    "                'model':Ridge_raw,\n",
    "                'dataset' : 'train',\n",
    "                'preprocessing': 'raw',\n",
    "                'score': raw_train_score})\n",
    "results.append({'name':'Ridge',\n",
    "                'model':Ridge_raw,\n",
    "                'dataset' : 'test',\n",
    "                'preprocessing': 'raw',\n",
    "                'score': raw_test_score})\n",
    "\n",
    "Ridge_scaled.fit(X_train_scaled, y_train)\n",
    "scaled_train_score = Ridge_scaled.score(X_train_scaled, y_train)\n",
    "scaled_test_score = Ridge_scaled.score(X_test_scaled, y_test)\n",
    "\n",
    "results.append({'name':'Ridge',\n",
    "                'model':Ridge_scaled,\n",
    "                'dataset' : 'train_scaled',\n",
    "                'preprocessing': 'scaled',\n",
    "                'score': scaled_train_score})\n",
    "results.append({'name':'Ridge',\n",
    "                'model':Ridge_scaled,\n",
    "                'dataset' : 'test_scaled',\n",
    "                'preprocessing': 'scaled',\n",
    "                'score': scaled_test_score})"
   ]
  },
  {
   "cell_type": "code",
   "execution_count": 63,
   "metadata": {},
   "outputs": [
    {
     "name": "stderr",
     "output_type": "stream",
     "text": [
      "/opt/conda/lib/python3.6/site-packages/sklearn/linear_model/coordinate_descent.py:484: ConvergenceWarning: Objective did not converge. You might want to increase the number of iterations. Fitting data with very small alpha may cause precision problems.\n",
      "  ConvergenceWarning)\n"
     ]
    }
   ],
   "source": [
    "Lasso_raw.fit(X_train, y_train)\n",
    "raw_train_score = Lasso_raw.score(X_train, y_train)\n",
    "raw_test_score = Lasso_raw.score(X_test, y_test)\n",
    "\n",
    "results.append({'name':'Lasso',\n",
    "                'model':Lasso_raw,\n",
    "                'dataset' : 'train',\n",
    "                'preprocessing': 'raw',\n",
    "                'score': raw_train_score})\n",
    "results.append({'name':'Lasso',\n",
    "                'model':Lasso_raw,\n",
    "                'dataset' : 'test',\n",
    "                'preprocessing': 'raw',\n",
    "                'score': raw_test_score})\n",
    "\n",
    "Lasso_scaled.fit(X_train_scaled, y_train)\n",
    "scaled_train_score = Lasso_scaled.score(X_train_scaled, y_train)\n",
    "scaled_test_score = Lasso_scaled.score(X_test_scaled, y_test)\n",
    "\n",
    "results.append({'name':'Lasso',\n",
    "                'model':Lasso_scaled,\n",
    "                'dataset' : 'train_scaled',\n",
    "                'preprocessing': 'scaled',\n",
    "                'score': scaled_train_score})\n",
    "results.append({'name':'Lasso',\n",
    "                'model':Lasso_scaled,\n",
    "                'dataset' : 'test_scaled',\n",
    "                'preprocessing': 'scaled',\n",
    "                'score': scaled_test_score})"
   ]
  },
  {
   "cell_type": "code",
   "execution_count": 64,
   "metadata": {
    "collapsed": true
   },
   "outputs": [],
   "source": [
    "sgd_raw.fit(X_train, y_train)\n",
    "raw_train_score = sgd_raw.score(X_train, y_train)\n",
    "raw_test_score = sgd_raw.score(X_test, y_test)\n",
    "\n",
    "results.append({'name':'sgd',\n",
    "                'model':sgd_raw,\n",
    "                'dataset' : 'train',\n",
    "                'preprocessing': 'raw',\n",
    "                'score': raw_train_score})\n",
    "results.append({'name':'sgd',\n",
    "                'model':sgd_raw,\n",
    "                'dataset' : 'test',\n",
    "                'preprocessing': 'raw',\n",
    "                'score': raw_test_score})\n",
    "\n",
    "sgd_scaled.fit(X_train_scaled, y_train)\n",
    "scaled_train_score = sgd_scaled.score(X_train_scaled, y_train)\n",
    "scaled_test_score = sgd_scaled.score(X_test_scaled, y_test)\n",
    "\n",
    "results.append({'name':'sgd',\n",
    "                'model':sgd_scaled,\n",
    "                'dataset' : 'train_scaled',\n",
    "                'preprocessing': 'scaled',\n",
    "                'score': scaled_train_score})\n",
    "results.append({'name':'sgd',\n",
    "                'model':sgd_scaled,\n",
    "                'dataset' : 'test_scaled',\n",
    "                'preprocessing': 'scaled',\n",
    "                'score': scaled_test_score})"
   ]
  },
  {
   "cell_type": "code",
   "execution_count": null,
   "metadata": {
    "collapsed": true
   },
   "outputs": [],
   "source": []
  },
  {
   "cell_type": "markdown",
   "metadata": {},
   "source": [
    "Note that we see warnings here. As we are in an exploration phase with our model, this is acceptable."
   ]
  },
  {
   "cell_type": "markdown",
   "metadata": {},
   "source": [
    "Use a DataFrame to store your `results` as `results_df`. By this we mean, save the `results` list into a new dataframe so that you can manipulate the DataFrame."
   ]
  },
  {
   "cell_type": "code",
   "execution_count": 65,
   "metadata": {},
   "outputs": [
    {
     "data": {
      "text/html": [
       "<div>\n",
       "<table border=\"1\" class=\"dataframe\">\n",
       "  <thead>\n",
       "    <tr style=\"text-align: right;\">\n",
       "      <th></th>\n",
       "      <th>dataset</th>\n",
       "      <th>model</th>\n",
       "      <th>name</th>\n",
       "      <th>preprocessing</th>\n",
       "      <th>score</th>\n",
       "    </tr>\n",
       "  </thead>\n",
       "  <tbody>\n",
       "    <tr>\n",
       "      <th>0</th>\n",
       "      <td>train</td>\n",
       "      <td>LinearRegression(copy_X=True, fit_intercept=Tr...</td>\n",
       "      <td>benchmark</td>\n",
       "      <td>raw</td>\n",
       "      <td>9.449468e-01</td>\n",
       "    </tr>\n",
       "    <tr>\n",
       "      <th>1</th>\n",
       "      <td>test</td>\n",
       "      <td>LinearRegression(copy_X=True, fit_intercept=Tr...</td>\n",
       "      <td>benchmark</td>\n",
       "      <td>raw</td>\n",
       "      <td>-2.570887e+09</td>\n",
       "    </tr>\n",
       "    <tr>\n",
       "      <th>2</th>\n",
       "      <td>train_scaled</td>\n",
       "      <td>LinearRegression(copy_X=True, fit_intercept=Tr...</td>\n",
       "      <td>benchmark</td>\n",
       "      <td>scaled</td>\n",
       "      <td>9.449429e-01</td>\n",
       "    </tr>\n",
       "    <tr>\n",
       "      <th>3</th>\n",
       "      <td>test_scaled</td>\n",
       "      <td>LinearRegression(copy_X=True, fit_intercept=Tr...</td>\n",
       "      <td>benchmark</td>\n",
       "      <td>scaled</td>\n",
       "      <td>-9.610251e+22</td>\n",
       "    </tr>\n",
       "    <tr>\n",
       "      <th>4</th>\n",
       "      <td>train</td>\n",
       "      <td>Ridge(alpha=1.0, copy_X=True, fit_intercept=Tr...</td>\n",
       "      <td>Ridge</td>\n",
       "      <td>raw</td>\n",
       "      <td>9.321560e-01</td>\n",
       "    </tr>\n",
       "    <tr>\n",
       "      <th>5</th>\n",
       "      <td>test</td>\n",
       "      <td>Ridge(alpha=1.0, copy_X=True, fit_intercept=Tr...</td>\n",
       "      <td>Ridge</td>\n",
       "      <td>raw</td>\n",
       "      <td>8.678210e-01</td>\n",
       "    </tr>\n",
       "    <tr>\n",
       "      <th>6</th>\n",
       "      <td>train_scaled</td>\n",
       "      <td>Ridge(alpha=1.0, copy_X=True, fit_intercept=Tr...</td>\n",
       "      <td>Ridge</td>\n",
       "      <td>scaled</td>\n",
       "      <td>9.449227e-01</td>\n",
       "    </tr>\n",
       "    <tr>\n",
       "      <th>7</th>\n",
       "      <td>test_scaled</td>\n",
       "      <td>Ridge(alpha=1.0, copy_X=True, fit_intercept=Tr...</td>\n",
       "      <td>Ridge</td>\n",
       "      <td>scaled</td>\n",
       "      <td>8.583000e-01</td>\n",
       "    </tr>\n",
       "    <tr>\n",
       "      <th>8</th>\n",
       "      <td>train</td>\n",
       "      <td>Lasso(alpha=1.0, copy_X=True, fit_intercept=Tr...</td>\n",
       "      <td>Lasso</td>\n",
       "      <td>raw</td>\n",
       "      <td>9.448827e-01</td>\n",
       "    </tr>\n",
       "    <tr>\n",
       "      <th>9</th>\n",
       "      <td>test</td>\n",
       "      <td>Lasso(alpha=1.0, copy_X=True, fit_intercept=Tr...</td>\n",
       "      <td>Lasso</td>\n",
       "      <td>raw</td>\n",
       "      <td>8.667891e-01</td>\n",
       "    </tr>\n",
       "    <tr>\n",
       "      <th>10</th>\n",
       "      <td>train_scaled</td>\n",
       "      <td>Lasso(alpha=1.0, copy_X=True, fit_intercept=Tr...</td>\n",
       "      <td>Lasso</td>\n",
       "      <td>scaled</td>\n",
       "      <td>9.449452e-01</td>\n",
       "    </tr>\n",
       "    <tr>\n",
       "      <th>11</th>\n",
       "      <td>test_scaled</td>\n",
       "      <td>Lasso(alpha=1.0, copy_X=True, fit_intercept=Tr...</td>\n",
       "      <td>Lasso</td>\n",
       "      <td>scaled</td>\n",
       "      <td>8.283861e-01</td>\n",
       "    </tr>\n",
       "    <tr>\n",
       "      <th>12</th>\n",
       "      <td>train</td>\n",
       "      <td>SGDRegressor(alpha=0.0001, average=False, epsi...</td>\n",
       "      <td>sgd</td>\n",
       "      <td>raw</td>\n",
       "      <td>-1.948263e+22</td>\n",
       "    </tr>\n",
       "    <tr>\n",
       "      <th>13</th>\n",
       "      <td>test</td>\n",
       "      <td>SGDRegressor(alpha=0.0001, average=False, epsi...</td>\n",
       "      <td>sgd</td>\n",
       "      <td>raw</td>\n",
       "      <td>-2.052007e+22</td>\n",
       "    </tr>\n",
       "    <tr>\n",
       "      <th>14</th>\n",
       "      <td>train_scaled</td>\n",
       "      <td>SGDRegressor(alpha=0.0001, average=False, epsi...</td>\n",
       "      <td>sgd</td>\n",
       "      <td>scaled</td>\n",
       "      <td>-6.328292e+03</td>\n",
       "    </tr>\n",
       "    <tr>\n",
       "      <th>15</th>\n",
       "      <td>test_scaled</td>\n",
       "      <td>SGDRegressor(alpha=0.0001, average=False, epsi...</td>\n",
       "      <td>sgd</td>\n",
       "      <td>scaled</td>\n",
       "      <td>-4.140609e+03</td>\n",
       "    </tr>\n",
       "  </tbody>\n",
       "</table>\n",
       "</div>"
      ],
      "text/plain": [
       "         dataset                                              model  \\\n",
       "0          train  LinearRegression(copy_X=True, fit_intercept=Tr...   \n",
       "1           test  LinearRegression(copy_X=True, fit_intercept=Tr...   \n",
       "2   train_scaled  LinearRegression(copy_X=True, fit_intercept=Tr...   \n",
       "3    test_scaled  LinearRegression(copy_X=True, fit_intercept=Tr...   \n",
       "4          train  Ridge(alpha=1.0, copy_X=True, fit_intercept=Tr...   \n",
       "5           test  Ridge(alpha=1.0, copy_X=True, fit_intercept=Tr...   \n",
       "6   train_scaled  Ridge(alpha=1.0, copy_X=True, fit_intercept=Tr...   \n",
       "7    test_scaled  Ridge(alpha=1.0, copy_X=True, fit_intercept=Tr...   \n",
       "8          train  Lasso(alpha=1.0, copy_X=True, fit_intercept=Tr...   \n",
       "9           test  Lasso(alpha=1.0, copy_X=True, fit_intercept=Tr...   \n",
       "10  train_scaled  Lasso(alpha=1.0, copy_X=True, fit_intercept=Tr...   \n",
       "11   test_scaled  Lasso(alpha=1.0, copy_X=True, fit_intercept=Tr...   \n",
       "12         train  SGDRegressor(alpha=0.0001, average=False, epsi...   \n",
       "13          test  SGDRegressor(alpha=0.0001, average=False, epsi...   \n",
       "14  train_scaled  SGDRegressor(alpha=0.0001, average=False, epsi...   \n",
       "15   test_scaled  SGDRegressor(alpha=0.0001, average=False, epsi...   \n",
       "\n",
       "         name preprocessing         score  \n",
       "0   benchmark           raw  9.449468e-01  \n",
       "1   benchmark           raw -2.570887e+09  \n",
       "2   benchmark        scaled  9.449429e-01  \n",
       "3   benchmark        scaled -9.610251e+22  \n",
       "4       Ridge           raw  9.321560e-01  \n",
       "5       Ridge           raw  8.678210e-01  \n",
       "6       Ridge        scaled  9.449227e-01  \n",
       "7       Ridge        scaled  8.583000e-01  \n",
       "8       Lasso           raw  9.448827e-01  \n",
       "9       Lasso           raw  8.667891e-01  \n",
       "10      Lasso        scaled  9.449452e-01  \n",
       "11      Lasso        scaled  8.283861e-01  \n",
       "12        sgd           raw -1.948263e+22  \n",
       "13        sgd           raw -2.052007e+22  \n",
       "14        sgd        scaled -6.328292e+03  \n",
       "15        sgd        scaled -4.140609e+03  "
      ]
     },
     "execution_count": 65,
     "metadata": {},
     "output_type": "execute_result"
    }
   ],
   "source": [
    "results_df = pd.DataFrame(results)\n",
    "results_df"
   ]
  },
  {
   "cell_type": "markdown",
   "metadata": {},
   "source": [
    "#### Display just the raw test results using pandas"
   ]
  },
  {
   "cell_type": "markdown",
   "metadata": {},
   "source": [
    "You can do this using pandas indexing as follows\n",
    "\n",
    "    results_df[(results_df.preprocessing == 'raw') & \n",
    "               (results_df.dataset == 'test')]"
   ]
  },
  {
   "cell_type": "code",
   "execution_count": null,
   "metadata": {
    "collapsed": true
   },
   "outputs": [],
   "source": []
  },
  {
   "cell_type": "markdown",
   "metadata": {},
   "source": [
    "#### What are your observations? Add them to this markdown cell.\n",
    "\n",
    "---\n",
    "\n"
   ]
  },
  {
   "cell_type": "markdown",
   "metadata": {},
   "source": [
    "#### Display just the scaled test results"
   ]
  },
  {
   "cell_type": "code",
   "execution_count": null,
   "metadata": {
    "collapsed": true
   },
   "outputs": [],
   "source": []
  },
  {
   "cell_type": "markdown",
   "metadata": {},
   "source": [
    "#### What are your observations? Add them to this markdown cell.\n",
    "\n",
    "---\n",
    "\n"
   ]
  },
  {
   "cell_type": "markdown",
   "metadata": {},
   "source": [
    "These are your benchmark results. You will refer to these for analysis during the next phase."
   ]
  },
  {
   "cell_type": "markdown",
   "metadata": {},
   "source": [
    "#### Display just the Benchmark models"
   ]
  },
  {
   "cell_type": "code",
   "execution_count": null,
   "metadata": {
    "collapsed": true
   },
   "outputs": [],
   "source": []
  },
  {
   "cell_type": "markdown",
   "metadata": {},
   "source": [
    "#### Display just the Ridge models"
   ]
  },
  {
   "cell_type": "code",
   "execution_count": null,
   "metadata": {
    "collapsed": true
   },
   "outputs": [],
   "source": []
  },
  {
   "cell_type": "markdown",
   "metadata": {},
   "source": [
    "#### Display just the Lasso models"
   ]
  },
  {
   "cell_type": "code",
   "execution_count": null,
   "metadata": {
    "collapsed": true
   },
   "outputs": [],
   "source": []
  },
  {
   "cell_type": "markdown",
   "metadata": {},
   "source": [
    "#### Display just the Elasticnet models"
   ]
  },
  {
   "cell_type": "code",
   "execution_count": null,
   "metadata": {
    "collapsed": true
   },
   "outputs": [],
   "source": []
  },
  {
   "cell_type": "markdown",
   "metadata": {},
   "source": [
    "#### What are your observations? Add them to this markdown cell.\n",
    "\n",
    "---\n",
    "\n"
   ]
  },
  {
   "cell_type": "markdown",
   "metadata": {},
   "source": [
    "### C. Cross-validated models\n",
    "\n",
    "Import the Cross-Validation Models for each of the Regularized Linear Models"
   ]
  },
  {
   "cell_type": "code",
   "execution_count": 66,
   "metadata": {
    "collapsed": true
   },
   "outputs": [],
   "source": [
    "cv_results = list()"
   ]
  },
  {
   "cell_type": "code",
   "execution_count": 67,
   "metadata": {
    "collapsed": true
   },
   "outputs": [],
   "source": [
    "from sklearn.linear_model import RidgeCV, LassoCV, ElasticNetCV"
   ]
  },
  {
   "cell_type": "markdown",
   "metadata": {},
   "source": [
    "Perform the cross-validation using an `np.logspace(-2,4,7)`."
   ]
  },
  {
   "cell_type": "code",
   "execution_count": null,
   "metadata": {
    "collapsed": true
   },
   "outputs": [],
   "source": []
  },
  {
   "cell_type": "markdown",
   "metadata": {},
   "source": [
    "#### Display just the raw test results"
   ]
  },
  {
   "cell_type": "code",
   "execution_count": null,
   "metadata": {
    "collapsed": true
   },
   "outputs": [],
   "source": []
  },
  {
   "cell_type": "markdown",
   "metadata": {},
   "source": [
    "#### Display just the scaled test results"
   ]
  },
  {
   "cell_type": "code",
   "execution_count": null,
   "metadata": {
    "collapsed": true
   },
   "outputs": [],
   "source": []
  },
  {
   "cell_type": "markdown",
   "metadata": {},
   "source": [
    "### D. Model Selection\n",
    "\n",
    "Interpret Regression Metrics for each of your models. Choose one of the following:\n",
    "\n",
    "* R2\n",
    "* MSE / RMSE\n",
    "* MAE\n",
    "\n",
    "What are your top 3 performing models? "
   ]
  },
  {
   "cell_type": "code",
   "execution_count": null,
   "metadata": {
    "collapsed": true
   },
   "outputs": [],
   "source": []
  },
  {
   "cell_type": "markdown",
   "metadata": {},
   "source": [
    "## Explain the bias / variance tradeoff\n",
    "\n",
    "Why do regularized models perform better on your test set?"
   ]
  },
  {
   "cell_type": "code",
   "execution_count": null,
   "metadata": {
    "collapsed": true
   },
   "outputs": [],
   "source": []
  },
  {
   "cell_type": "markdown",
   "metadata": {},
   "source": [
    "### Interpreting coefficients\n",
    "\n",
    "For your best model, \n",
    "\n",
    "* plot relevant coefficients using the `plot_coef` functoin.\n"
   ]
  },
  {
   "cell_type": "code",
   "execution_count": 68,
   "metadata": {
    "collapsed": true
   },
   "outputs": [],
   "source": [
    "def plot_coef(model, top_n = 10):\n",
    "    '''\n",
    "    Plots the magnitude of top and bottom n coefficients\n",
    "    '''\n",
    "    cols = X_train.columns\n",
    "    coef = model.coef_\n",
    "    zipped = list(zip(cols, coef))\n",
    "    zipped.sort(key=lambda x: x[1], reverse = True)\n",
    "    top_10 = pd.DataFrame(zipped).head(top_n)\n",
    "    bottom_10 = pd.DataFrame(zipped).tail(top_n)\n",
    "    return pd.concat([top_10, bottom_10], axis=0).plot.barh(x = 0, y = 1)"
   ]
  },
  {
   "cell_type": "markdown",
   "metadata": {},
   "source": [
    "#### Plot your coefficients."
   ]
  },
  {
   "cell_type": "code",
   "execution_count": null,
   "metadata": {
    "collapsed": true
   },
   "outputs": [],
   "source": []
  },
  {
   "cell_type": "markdown",
   "metadata": {},
   "source": [
    "#### Which features add / take away most value from a home?"
   ]
  },
  {
   "cell_type": "code",
   "execution_count": null,
   "metadata": {
    "collapsed": true
   },
   "outputs": [],
   "source": []
  },
  {
   "cell_type": "markdown",
   "metadata": {},
   "source": [
    "# (Optional) Informing Business Value\n",
    "\n",
    "Interpreting our work for a non-technical audience is a vital skill that every good Data Scientist must cultivate.  At the end of the day, our work must be informative to business process so connecting our detailed efforts to a high level strategy is critical.\n",
    "\n",
    "We've established a few businesses cases that you should assert some explanation and advise best strategy through a model of your choice.  Also call out any exploratory analysis and reasoning for any recommendation.\n",
    "\n",
    "##### For each question:\n",
    "* Plot relevant data\n",
    "* Fit a new model or use a previous  model\n",
    "* Plot relevant coefficients\n"
   ]
  },
  {
   "cell_type": "markdown",
   "metadata": {},
   "source": [
    "#### (Optional) Case 1: Which features add / take away most value from a home?\n",
    "\n",
    "You just explained which coeffients add / take away most value, technically, but can you explain this in a non-technical manner?  Also, emphasize _why_ in your explanation.\n",
    "\n",
    "- Choose a few examples and explain why the coefficients describe the target value of the property."
   ]
  },
  {
   "cell_type": "code",
   "execution_count": null,
   "metadata": {
    "collapsed": true
   },
   "outputs": [],
   "source": []
  },
  {
   "cell_type": "markdown",
   "metadata": {},
   "source": [
    "#### (Optional) Case 2: Can you identify any abnormally priced houses?\n",
    "We might consider these being properties that are over or under predicted by price. Can you make sense of when and why these are over and under predicted?"
   ]
  },
  {
   "cell_type": "code",
   "execution_count": null,
   "metadata": {
    "collapsed": true
   },
   "outputs": [],
   "source": []
  },
  {
   "cell_type": "markdown",
   "metadata": {},
   "source": [
    "#### (Optional) Case 3:  Which houses are good investments?\n",
    "\n",
    "Which criteria would you look at?  How sure can you be of your assumptions?  Give precise metrics but also give a concise recommendation that is non-technical that communicates the risks of your anlaysis."
   ]
  },
  {
   "cell_type": "code",
   "execution_count": null,
   "metadata": {
    "collapsed": true
   },
   "outputs": [],
   "source": []
  },
  {
   "cell_type": "markdown",
   "metadata": {},
   "source": [
    "#### (Optional) Case 4:  Which houses are good investments (extended)?\n",
    "One idea that is common in the real-estate invement community is called \"flipping\".  This usually entails buying a property with \"changable\" charactaristics that can be upgraded.  Examples of changable or \"upgradable\" features include:  A garage, a kitchen, etc.\n",
    "\n",
    "Can you give us an idea of investments opportunities considering \"upgradable\" features?  You will have to explore this idea on your own and possibly do a little research for subject matter expertise.\n",
    "\n",
    "- Some features of a house are worth more than others\n",
    "- Some features can't be upgraded (ie: square footage)"
   ]
  },
  {
   "cell_type": "code",
   "execution_count": null,
   "metadata": {
    "collapsed": true
   },
   "outputs": [],
   "source": []
  },
  {
   "cell_type": "code",
   "execution_count": null,
   "metadata": {
    "collapsed": true
   },
   "outputs": [],
   "source": []
  }
 ],
 "metadata": {
  "kernelspec": {
   "display_name": "Python 3",
   "language": "python",
   "name": "python3"
  },
  "language_info": {
   "codemirror_mode": {
    "name": "ipython",
    "version": 3
   },
   "file_extension": ".py",
   "mimetype": "text/x-python",
   "name": "python",
   "nbconvert_exporter": "python",
   "pygments_lexer": "ipython3",
   "version": "3.6.2"
  }
 },
 "nbformat": 4,
 "nbformat_minor": 2
}
